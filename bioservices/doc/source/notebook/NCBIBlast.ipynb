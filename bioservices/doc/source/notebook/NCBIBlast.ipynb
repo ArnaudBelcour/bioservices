{
 "metadata": {
  "name": "",
  "signature": "sha256:18459ab56b133d7835af5cd2de4a2fec3764470ae9b2b8f01a917f7b6bf8dc03"
 },
 "nbformat": 3,
 "nbformat_minor": 0,
 "worksheets": [
  {
   "cells": [
    {
     "cell_type": "heading",
     "level": 1,
     "metadata": {},
     "source": [
      "NCBIblast service from BioServices"
     ]
    },
    {
     "cell_type": "markdown",
     "metadata": {},
     "source": [
      "This example illustrate the NCBIBlast module usage within BioServices.\n",
      "\n",
      "<i>\"The emphasis of NCBIBlast is to find regions of sequence similarity, which will yield functional and evolutionary clues about the structure and function of your novel sequence.\" -- from NCBIblast web page.</i>"
     ]
    },
    {
     "cell_type": "code",
     "collapsed": false,
     "input": [
      "from bioservices import *\n",
      "%pylab inline --no-import-all\n",
      "from pylab import hist"
     ],
     "language": "python",
     "metadata": {},
     "outputs": [
      {
       "output_type": "stream",
       "stream": "stdout",
       "text": [
        "Populating the interactive namespace from numpy and matplotlib\n"
       ]
      }
     ],
     "prompt_number": 18
    },
    {
     "cell_type": "markdown",
     "metadata": {},
     "source": [
      "<i>First, we need to get a FASTA sequence, which will be the input to the NCBIblast service. </i>"
     ]
    },
    {
     "cell_type": "code",
     "collapsed": false,
     "input": [
      "u = UniProt()"
     ],
     "language": "python",
     "metadata": {},
     "outputs": [],
     "prompt_number": 10
    },
    {
     "cell_type": "code",
     "collapsed": false,
     "input": [
      "sequence = u.searchUniProtId(\"P43403\", \"fasta\")"
     ],
     "language": "python",
     "metadata": {},
     "outputs": [],
     "prompt_number": 11
    },
    {
     "cell_type": "heading",
     "level": 1,
     "metadata": {},
     "source": [
      "Sequence alignement can be performed with the blastp tool via NCBIblast service."
     ]
    },
    {
     "cell_type": "code",
     "collapsed": false,
     "input": [
      "s = NCBIblast(verbose=False)"
     ],
     "language": "python",
     "metadata": {},
     "outputs": [],
     "prompt_number": 4
    },
    {
     "cell_type": "code",
     "collapsed": false,
     "input": [
      "jobid = s.run(program=\"blastp\", sequence=sequence, \n",
      "              stype=\"protein\", database=\"uniprotkb\", \n",
      "              email=\"test@whatever.co.uk\")"
     ],
     "language": "python",
     "metadata": {},
     "outputs": [
      {
       "output_type": "stream",
       "stream": "stdout",
       "text": [
        "easydev WARNING:: deprecated; use check_param_in_list instead.\n",
        "easydev WARNING:: deprecated; use check_param_in_list instead.\n",
        "{'program': 'blastp', 'email': 'test@whatever.co.uk', 'stype': 'protein', 'sequence': '>sp|P43403|ZAP70_HUMAN Tyrosine-protein kinase ZAP-70 OS=Homo sapiens GN=ZAP70 PE=1 SV=1\\nMPDPAAHLPFFYGSISRAEAEEHLKLAGMADGLFLLRQCLRSLGGYVLSLVHDVRFHHFP\\nIERQLNGTYAIAGGKAHCGPAELCEFYSRDPDGLPCNLRKPCNRPSGLEPQPGVFDCLRD\\nAMVRDYVRQTWKLEGEALEQAIISQAPQVEKLIATTAHERMPWYHSSLTREEAERKLYSG\\nAQTDGKFLLRPRKEQGTYALSLIYGKTVYHYLISQDKAGKYCIPEGTKFDTLWQLVEYLK\\nLKADGLIYCLKEACPNSSASNASGAAAPTLPAHPSTLTHPQRRIDTLNSDGYTPEPARIT\\nSPDKPRPMPMDTSVYESPYSDPEELKDKKLFLKRDNLLIADIELGCGNFGSVRQGVYRMR\\nKKQIDVAIKVLKQGTEKADTEEMMREAQIMHQLDNPYIVRLIGVCQAEALMLVMEMAGGG\\nPLHKFLVGKREEIPVSNVAELLHQVSMGMKYLEEKNFVHRDLAARNVLLVNRHYAKISDF\\nGLSKALGADDSYYTARSAGKWPLKWYAPECINFRKFSSRSDVWSYGVTMWEALSYGQKPY\\nKKMKGPEVMAFIEQGKRMECPPECPPELYALMSDCWIYKWEDRPDFLTVEQRMRACYYSL\\nASKVEGPPGSTQKAEAACA\\n'}\n",
        "&database=uniprotkb\n",
        "program=blastp&email=test%40whatever.co.uk&stype=protein&sequence=%3Esp%7CP43403%7CZAP70_HUMAN+Tyrosine-protein+kinase+ZAP-70+OS%3DHomo+sapiens+GN%3DZAP70+PE%3D1+SV%3D1%0AMPDPAAHLPFFYGSISRAEAEEHLKLAGMADGLFLLRQCLRSLGGYVLSLVHDVRFHHFP%0AIERQLNGTYAIAGGKAHCGPAELCEFYSRDPDGLPCNLRKPCNRPSGLEPQPGVFDCLRD%0AAMVRDYVRQTWKLEGEALEQAIISQAPQVEKLIATTAHERMPWYHSSLTREEAERKLYSG%0AAQTDGKFLLRPRKEQGTYALSLIYGKTVYHYLISQDKAGKYCIPEGTKFDTLWQLVEYLK%0ALKADGLIYCLKEACPNSSASNASGAAAPTLPAHPSTLTHPQRRIDTLNSDGYTPEPARIT%0ASPDKPRPMPMDTSVYESPYSDPEELKDKKLFLKRDNLLIADIELGCGNFGSVRQGVYRMR%0AKKQIDVAIKVLKQGTEKADTEEMMREAQIMHQLDNPYIVRLIGVCQAEALMLVMEMAGGG%0APLHKFLVGKREEIPVSNVAELLHQVSMGMKYLEEKNFVHRDLAARNVLLVNRHYAKISDF%0AGLSKALGADDSYYTARSAGKWPLKWYAPECINFRKFSSRSDVWSYGVTMWEALSYGQKPY%0AKKMKGPEVMAFIEQGKRMECPPECPPELYALMSDCWIYKWEDRPDFLTVEQRMRACYYSL%0AASKVEGPPGSTQKAEAACA%0A\n",
        "<urllib2.Request instance at 0x48dd680>\n"
       ]
      }
     ],
     "prompt_number": 5
    },
    {
     "cell_type": "code",
     "collapsed": false,
     "input": [
      "print(s.getResult(jobid, \"out\")[0:1200])"
     ],
     "language": "python",
     "metadata": {},
     "outputs": [
      {
       "output_type": "stream",
       "stream": "stdout",
       "text": [
        "BLASTP 2.2.29+\n",
        "\n",
        "\n",
        "Reference: Stephen F. Altschul, Thomas L. Madden, Alejandro A.\n",
        "Schaffer, Jinghui Zhang, Zheng Zhang, Webb Miller, and David J.\n",
        "Lipman (1997), \"Gapped BLAST and PSI-BLAST: a new generation of\n",
        "protein database search programs\", Nucleic Acids Res. 25:3389-3402.\n",
        "\n",
        "\n",
        "Reference for composition-based statistics: Alejandro A. Schaffer,\n",
        "L. Aravind, Thomas L. Madden, Sergei Shavirin, John L. Spouge, Yuri\n",
        "I. Wolf, Eugene V. Koonin, and Stephen F. Altschul (2001),\n",
        "\"Improving the accuracy of PSI-BLAST protein database searches with\n",
        "composition-based statistics and other refinements\", Nucleic Acids\n",
        "Res. 29:2994-3005.\n",
        "\n",
        "\n",
        "\n",
        "Database: uniprotkb\n",
        "           55,539,852 sequences; 17,689,561,164 total letters\n",
        "\n",
        "\n",
        "\n",
        "Query= sp|P43403|ZAP70_HUMAN Tyrosine-protein kinase ZAP-70 OS=Homo sapiens\n",
        "GN=ZAP70 PE=1 SV=1\n",
        "\n",
        "Length=619\n",
        "                                                                      Score     E\n",
        "Sequences producing significant alignments:                          (Bits)  Value\n",
        "\n",
        "lcl|SP:ZAP70_HUMAN  P43403 Tyrosine-protein kinase ZAP-70 OS=Homo...   1279   0.0   \n",
        "lcl|TR:H2QIE3_PANTR  H2QIE3 Tyrosine-protein kinase OS=Pan troglo...   1278   0.0   \n",
        "lcl|TR:G3QGN8_GORGO  G3QGN8 Tyrosine-protei\n"
       ]
      }
     ],
     "prompt_number": 6
    },
    {
     "cell_type": "code",
     "collapsed": false,
     "input": [
      "lines = s.getResult(jobid, \"out\").split(\"\\n\")"
     ],
     "language": "python",
     "metadata": {},
     "outputs": [],
     "prompt_number": 14
    },
    {
     "cell_type": "code",
     "collapsed": false,
     "input": [
      "entries = [l for l in lines if l.startswith(\"lcl\")]"
     ],
     "language": "python",
     "metadata": {},
     "outputs": [],
     "prompt_number": 15
    },
    {
     "cell_type": "code",
     "collapsed": false,
     "input": [
      "scores = [float(e.split()[-1]) for e in entries]\n",
      "lengths = [float(e.split()[-2]) for e in entries]\n",
      "hist(lengths, 20)"
     ],
     "language": "python",
     "metadata": {},
     "outputs": [
      {
       "metadata": {},
       "output_type": "pyout",
       "prompt_number": 19,
       "text": [
        "(array([ 280.,   39.,   12.,   12.,    3.,    2.,    2.,    5.,   57.,\n",
        "          17.,    4.,   14.,    2.,   10.,    8.,    1.,    8.,    5.,\n",
        "          12.,    7.]),\n",
        " array([  197. ,   251.1,   305.2,   359.3,   413.4,   467.5,   521.6,\n",
        "          575.7,   629.8,   683.9,   738. ,   792.1,   846.2,   900.3,\n",
        "          954.4,  1008.5,  1062.6,  1116.7,  1170.8,  1224.9,  1279. ]),\n",
        " <a list of 20 Patch objects>)"
       ]
      },
      {
       "metadata": {},
       "output_type": "display_data",
       "png": "[encoded data removed]",
       "text": [
        "<matplotlib.figure.Figure at 0x48da090>"
       ]
      }
     ],
     "prompt_number": 19
    },
    {
     "cell_type": "code",
     "collapsed": false,
     "input": [],
     "language": "python",
     "metadata": {},
     "outputs": []
    }
   ],
   "metadata": {}
  }
 ]
}