{
 "metadata": {
  "name": "",
  "signature": "sha256:941338f91ebb3e1329d10ff1a61cc7fe0dc7498be063b037f1c46292dda48257"
 },
 "nbformat": 3,
 "nbformat_minor": 0,
 "worksheets": [
  {
   "cells": [
    {
     "cell_type": "heading",
     "level": 1,
     "metadata": {},
     "source": [
      "Accessing UniProt Web Services from BioServices"
     ]
    },
    {
     "cell_type": "code",
     "collapsed": false,
     "input": [
      "from bioservices import *\n",
      "%pylab inline --no-import-all"
     ],
     "language": "python",
     "metadata": {},
     "outputs": [
      {
       "output_type": "stream",
       "stream": "stdout",
       "text": [
        "Populating the interactive namespace from numpy and matplotlib\n"
       ]
      }
     ],
     "prompt_number": 5
    },
    {
     "cell_type": "heading",
     "level": 3,
     "metadata": {},
     "source": [
      "UniProt service can help us getting  information about a given protein"
     ]
    },
    {
     "cell_type": "code",
     "collapsed": false,
     "input": [
      "u = UniProt()"
     ],
     "language": "python",
     "metadata": {},
     "outputs": [],
     "prompt_number": 6
    },
    {
     "cell_type": "markdown",
     "metadata": {},
     "source": [
      "If you already know the entry name, just type it:"
     ]
    },
    {
     "cell_type": "code",
     "collapsed": false,
     "input": [
      "res = u.search(\"ZAP70_HUMAN\")\n",
      "print(res)"
     ],
     "language": "python",
     "metadata": {},
     "outputs": [
      {
       "output_type": "stream",
       "stream": "stdout",
       "text": [
        "Entry\tEntry name\tStatus\tProtein names\tGene names\tOrganism\tLength\n",
        "P43403\tZAP70_HUMAN\treviewed\tTyrosine-protein kinase ZAP-70 (EC 2.7.10.2) (70 kDa zeta-chain associated protein) (Syk-related tyrosine kinase)\tZAP70 SRK\tHomo sapiens (Human)\t619\n",
        "\n"
       ]
      }
     ],
     "prompt_number": 21
    },
    {
     "cell_type": "markdown",
     "metadata": {},
     "source": [
      "Otherwise, let us search the entire database. We can restrict the search to human species, and print results limited to 3 best matches and sub-selection of columns/information"
     ]
    },
    {
     "cell_type": "code",
     "collapsed": false,
     "input": [
      "print u.search('zap70+AND+organism:9606', format='tab', limit=3,\n",
      "               columns=\"entry name, length, genes\")"
     ],
     "language": "python",
     "metadata": {},
     "outputs": [
      {
       "output_type": "stream",
       "stream": "stdout",
       "text": [
        "Entry name\tLength\tGene names\n",
        "ZAP70_HUMAN\t619\tZAP70 SRK\n",
        "B4E0E2_HUMAN\t185\t\n",
        "CBL_HUMAN\t906\tCBL CBL2 RNF55\n",
        "\n"
       ]
      }
     ],
     "prompt_number": 19
    },
    {
     "cell_type": "code",
     "collapsed": false,
     "input": [
      "print(res)"
     ],
     "language": "python",
     "metadata": {},
     "outputs": [
      {
       "output_type": "stream",
       "stream": "stdout",
       "text": [
        "Entry\tEntry name\tStatus\tProtein names\tGene names\tOrganism\tLength\n",
        "P43403\tZAP70_HUMAN\treviewed\tTyrosine-protein kinase ZAP-70 (EC 2.7.10.2) (70 kDa zeta-chain associated protein) (Syk-related tyrosine kinase)\tZAP70 SRK\tHomo sapiens (Human)\t619\n",
        "\n"
       ]
      }
     ],
     "prompt_number": 4
    },
    {
     "cell_type": "heading",
     "level": 4,
     "metadata": {},
     "source": [
      "Experimetal: using pandas to scan the output of the search function"
     ]
    },
    {
     "cell_type": "code",
     "collapsed": false,
     "input": [
      "df = u.get_df([\"P43403\", \"P41202\", \"P43401\"])\n",
      "df"
     ],
     "language": "python",
     "metadata": {},
     "outputs": [
      {
       "html": [
        "<div style=\"max-height:1000px;max-width:1500px;overflow:auto;\">\n",
        "<table border=\"1\" class=\"dataframe\">\n",
        "  <thead>\n",
        "    <tr style=\"text-align: right;\">\n",
        "      <th></th>\n",
        "      <th>PubMed ID</th>\n",
        "      <th>Comments</th>\n",
        "      <th>Cross-reference</th>\n",
        "      <th>Domains</th>\n",
        "      <th>Domain count</th>\n",
        "      <th>EC number</th>\n",
        "      <th>Entry</th>\n",
        "      <th>Entry name</th>\n",
        "      <th>Protein existence</th>\n",
        "      <th>Protein families</th>\n",
        "      <th>Features</th>\n",
        "      <th>Gene names</th>\n",
        "      <th>Gene ontology (GO)</th>\n",
        "      <th>Gene ontology IDs</th>\n",
        "      <th>InterPro</th>\n",
        "      <th>Interacts with</th>\n",
        "      <th>Keywords</th>\n",
        "      <th>Date of last modification</th>\n",
        "      <th>Length</th>\n",
        "      <th>Organism</th>\n",
        "      <th></th>\n",
        "    </tr>\n",
        "  </thead>\n",
        "  <tbody>\n",
        "    <tr>\n",
        "      <th>0</th>\n",
        "      <td> [1423621, 14985102, 15815621, 15489334, 812472...</td>\n",
        "      <td> [Alternative products (1), Catalytic activity ...</td>\n",
        "      <td>NaN</td>\n",
        "      <td> [Protein kinase domain (1), SH2 domains (2)]</td>\n",
        "      <td> 0</td>\n",
        "      <td> 2.7.10.2</td>\n",
        "      <td> P43403</td>\n",
        "      <td> ZAP70_HUMAN</td>\n",
        "      <td> Evidence at protein level</td>\n",
        "      <td> [Protein kinase superfamily, Tyr protein kinas...</td>\n",
        "      <td> Active site (1); Alternative sequence (3); Bet...</td>\n",
        "      <td>      [ZAP70 SRK]</td>\n",
        "      <td> [ATP binding, B cell activation, T cell activa...</td>\n",
        "      <td> [GO:0005524, GO:0042113, GO:0042110, GO:007048...</td>\n",
        "      <td> [IPR011009, IPR023420, IPR000719, IPR017441, I...</td>\n",
        "      <td> [P20963, P07766, P06239, Q9Y2R2, Q8BGG7]</td>\n",
        "      <td> [3D-structure, ATP-binding, Acetylation, Adapt...</td>\n",
        "      <td> 2014-04-16</td>\n",
        "      <td> 619</td>\n",
        "      <td>                              Homo sapiens (Human)</td>\n",
        "      <td>...</td>\n",
        "    </tr>\n",
        "    <tr>\n",
        "      <th>1</th>\n",
        "      <td>                     [1840500, 10381320, 15995215]</td>\n",
        "      <td> [Function (1), Sequence similarities (1), Subu...</td>\n",
        "      <td>NaN</td>\n",
        "      <td>                                           []</td>\n",
        "      <td> 0</td>\n",
        "      <td>      NaN</td>\n",
        "      <td> P41202</td>\n",
        "      <td>   RL5_SULAC</td>\n",
        "      <td>    Inferred from homology</td>\n",
        "      <td>                    [Ribosomal protein L5P family]</td>\n",
        "      <td>                                         Chain (1)</td>\n",
        "      <td> [rpl5 Saci_0584]</td>\n",
        "      <td> [rRNA binding, ribosome, structural constituen...</td>\n",
        "      <td> [GO:0019843, GO:0005840, GO:0003735, GO:000004...</td>\n",
        "      <td>    [IPR002132, IPR022804, IPR020929, IPR022803, ]</td>\n",
        "      <td>                                       []</td>\n",
        "      <td> [Complete proteome, RNA-binding, Ribonucleopro...</td>\n",
        "      <td> 2014-02-19</td>\n",
        "      <td> 178</td>\n",
        "      <td> Sulfolobus acidocaldarius (strain ATCC 33909 /...</td>\n",
        "      <td>...</td>\n",
        "    </tr>\n",
        "    <tr>\n",
        "      <th>2</th>\n",
        "      <td>                                                []</td>\n",
        "      <td>         [Function (1), Sequence similarities (1)]</td>\n",
        "      <td>NaN</td>\n",
        "      <td>                                           []</td>\n",
        "      <td> 0</td>\n",
        "      <td>      NaN</td>\n",
        "      <td> P43401</td>\n",
        "      <td>    EC_MAIZE</td>\n",
        "      <td>    Inferred from homology</td>\n",
        "      <td>     [Metallothionein superfamily, Type 15 family]</td>\n",
        "      <td>               Chain (1); Initiator methionine (1)</td>\n",
        "      <td>               []</td>\n",
        "      <td> [cytoplasm, membrane, nucleus, zinc ion bindin...</td>\n",
        "      <td> [GO:0005737, GO:0016020, GO:0005634, GO:000827...</td>\n",
        "      <td>                                     [IPR000316, ]</td>\n",
        "      <td>                                       []</td>\n",
        "      <td>     [Metal-binding, Metal-thiolate cluster, Zinc]</td>\n",
        "      <td> 2014-03-19</td>\n",
        "      <td>  77</td>\n",
        "      <td>                                  Zea mays (Maize)</td>\n",
        "      <td>...</td>\n",
        "    </tr>\n",
        "  </tbody>\n",
        "</table>\n",
        "<p>3 rows \u00d7 29 columns</p>\n",
        "</div>"
       ],
       "metadata": {},
       "output_type": "pyout",
       "prompt_number": 34,
       "text": [
        "                                           PubMed ID  \\\n",
        "0  [1423621, 14985102, 15815621, 15489334, 812472...   \n",
        "1                      [1840500, 10381320, 15995215]   \n",
        "2                                                 []   \n",
        "\n",
        "                                            Comments  Cross-reference  \\\n",
        "0  [Alternative products (1), Catalytic activity ...              NaN   \n",
        "1  [Function (1), Sequence similarities (1), Subu...              NaN   \n",
        "2          [Function (1), Sequence similarities (1)]              NaN   \n",
        "\n",
        "                                        Domains  Domain count EC number  \\\n",
        "0  [Protein kinase domain (1), SH2 domains (2)]             0  2.7.10.2   \n",
        "1                                            []             0       NaN   \n",
        "2                                            []             0       NaN   \n",
        "\n",
        "    Entry   Entry name          Protein existence  \\\n",
        "0  P43403  ZAP70_HUMAN  Evidence at protein level   \n",
        "1  P41202    RL5_SULAC     Inferred from homology   \n",
        "2  P43401     EC_MAIZE     Inferred from homology   \n",
        "\n",
        "                                    Protein families  \\\n",
        "0  [Protein kinase superfamily, Tyr protein kinas...   \n",
        "1                     [Ribosomal protein L5P family]   \n",
        "2      [Metallothionein superfamily, Type 15 family]   \n",
        "\n",
        "                                            Features        Gene names  \\\n",
        "0  Active site (1); Alternative sequence (3); Bet...       [ZAP70 SRK]   \n",
        "1                                          Chain (1)  [rpl5 Saci_0584]   \n",
        "2                Chain (1); Initiator methionine (1)                []   \n",
        "\n",
        "                                  Gene ontology (GO)  \\\n",
        "0  [ATP binding, B cell activation, T cell activa...   \n",
        "1  [rRNA binding, ribosome, structural constituen...   \n",
        "2  [cytoplasm, membrane, nucleus, zinc ion bindin...   \n",
        "\n",
        "                                   Gene ontology IDs  \\\n",
        "0  [GO:0005524, GO:0042113, GO:0042110, GO:007048...   \n",
        "1  [GO:0019843, GO:0005840, GO:0003735, GO:000004...   \n",
        "2  [GO:0005737, GO:0016020, GO:0005634, GO:000827...   \n",
        "\n",
        "                                            InterPro  \\\n",
        "0  [IPR011009, IPR023420, IPR000719, IPR017441, I...   \n",
        "1     [IPR002132, IPR022804, IPR020929, IPR022803, ]   \n",
        "2                                      [IPR000316, ]   \n",
        "\n",
        "                             Interacts with  \\\n",
        "0  [P20963, P07766, P06239, Q9Y2R2, Q8BGG7]   \n",
        "1                                        []   \n",
        "2                                        []   \n",
        "\n",
        "                                            Keywords  \\\n",
        "0  [3D-structure, ATP-binding, Acetylation, Adapt...   \n",
        "1  [Complete proteome, RNA-binding, Ribonucleopro...   \n",
        "2      [Metal-binding, Metal-thiolate cluster, Zinc]   \n",
        "\n",
        "  Date of last modification  Length  \\\n",
        "0                2014-04-16     619   \n",
        "1                2014-02-19     178   \n",
        "2                2014-03-19      77   \n",
        "\n",
        "                                            Organism      \n",
        "0                               Homo sapiens (Human) ...  \n",
        "1  Sulfolobus acidocaldarius (strain ATCC 33909 /... ...  \n",
        "2                                   Zea mays (Maize) ...  \n",
        "\n",
        "[3 rows x 29 columns]"
       ]
      }
     ],
     "prompt_number": 34
    },
    {
     "cell_type": "code",
     "collapsed": false,
     "input": [
      "df['Length'].hist()\n"
     ],
     "language": "python",
     "metadata": {},
     "outputs": [
      {
       "metadata": {},
       "output_type": "pyout",
       "prompt_number": 35,
       "text": [
        "<matplotlib.axes.AxesSubplot at 0x58e5050>"
       ]
      },
      {
       "metadata": {},
       "output_type": "display_data",
       "png": "[encoded data removed]",
       "text": [
        "<matplotlib.figure.Figure at 0x56b8b90>"
       ]
      }
     ],
     "prompt_number": 35
    },
    {
     "cell_type": "heading",
     "level": 3,
     "metadata": {},
     "source": [
      "UniProt service can help us getting the FASTA sequence and more generally information about a given protein"
     ]
    },
    {
     "cell_type": "code",
     "collapsed": false,
     "input": [
      "sequence = u.searchUniProtId(\"P43403\", \"fasta\")"
     ],
     "language": "python",
     "metadata": {},
     "outputs": [],
     "prompt_number": 36
    },
    {
     "cell_type": "code",
     "collapsed": false,
     "input": [],
     "language": "python",
     "metadata": {},
     "outputs": [
      {
       "output_type": "stream",
       "stream": "stdout",
       "text": [
        "Entry name\tLength\tGene names\n",
        "ZAP70_HUMAN\t619\tZAP70 SRK\n",
        "B4E0E2_HUMAN\t185\t\n",
        "CBL_HUMAN\t906\tCBL CBL2 RNF55\n",
        "\n"
       ]
      }
     ],
     "prompt_number": 18
    },
    {
     "cell_type": "code",
     "collapsed": false,
     "input": [
      "print(sequence)"
     ],
     "language": "python",
     "metadata": {},
     "outputs": [
      {
       "output_type": "stream",
       "stream": "stdout",
       "text": [
        ">sp|P43403|ZAP70_HUMAN Tyrosine-protein kinase ZAP-70 OS=Homo sapiens GN=ZAP70 PE=1 SV=1\n",
        "MPDPAAHLPFFYGSISRAEAEEHLKLAGMADGLFLLRQCLRSLGGYVLSLVHDVRFHHFP\n",
        "IERQLNGTYAIAGGKAHCGPAELCEFYSRDPDGLPCNLRKPCNRPSGLEPQPGVFDCLRD\n",
        "AMVRDYVRQTWKLEGEALEQAIISQAPQVEKLIATTAHERMPWYHSSLTREEAERKLYSG\n",
        "AQTDGKFLLRPRKEQGTYALSLIYGKTVYHYLISQDKAGKYCIPEGTKFDTLWQLVEYLK\n",
        "LKADGLIYCLKEACPNSSASNASGAAAPTLPAHPSTLTHPQRRIDTLNSDGYTPEPARIT\n",
        "SPDKPRPMPMDTSVYESPYSDPEELKDKKLFLKRDNLLIADIELGCGNFGSVRQGVYRMR\n",
        "KKQIDVAIKVLKQGTEKADTEEMMREAQIMHQLDNPYIVRLIGVCQAEALMLVMEMAGGG\n",
        "PLHKFLVGKREEIPVSNVAELLHQVSMGMKYLEEKNFVHRDLAARNVLLVNRHYAKISDF\n",
        "GLSKALGADDSYYTARSAGKWPLKWYAPECINFRKFSSRSDVWSYGVTMWEALSYGQKPY\n",
        "KKMKGPEVMAFIEQGKRMECPPECPPELYALMSDCWIYKWEDRPDFLTVEQRMRACYYSL\n",
        "ASKVEGPPGSTQKAEAACA\n",
        "\n"
       ]
      }
     ],
     "prompt_number": 37
    },
    {
     "cell_type": "markdown",
     "metadata": {},
     "source": [
      "Alternatively, you can just use the following function to get the fasta sequence:"
     ]
    },
    {
     "cell_type": "code",
     "collapsed": false,
     "input": [
      "u.get_fasta_sequence(\"P43403\")"
     ],
     "language": "python",
     "metadata": {},
     "outputs": [
      {
       "metadata": {},
       "output_type": "pyout",
       "prompt_number": 8,
       "text": [
        "'MPDPAAHLPFFYGSISRAEAEEHLKLAGMADGLFLLRQCLRSLGGYVLSLVHDVRFHHFPIERQLNGTYAIAGGKAHCGPAELCEFYSRDPDGLPCNLRKPCNRPSGLEPQPGVFDCLRDAMVRDYVRQTWKLEGEALEQAIISQAPQVEKLIATTAHERMPWYHSSLTREEAERKLYSGAQTDGKFLLRPRKEQGTYALSLIYGKTVYHYLISQDKAGKYCIPEGTKFDTLWQLVEYLKLKADGLIYCLKEACPNSSASNASGAAAPTLPAHPSTLTHPQRRIDTLNSDGYTPEPARITSPDKPRPMPMDTSVYESPYSDPEELKDKKLFLKRDNLLIADIELGCGNFGSVRQGVYRMRKKQIDVAIKVLKQGTEKADTEEMMREAQIMHQLDNPYIVRLIGVCQAEALMLVMEMAGGGPLHKFLVGKREEIPVSNVAELLHQVSMGMKYLEEKNFVHRDLAARNVLLVNRHYAKISDFGLSKALGADDSYYTARSAGKWPLKWYAPECINFRKFSSRSDVWSYGVTMWEALSYGQKPYKKMKGPEVMAFIEQGKRMECPPECPPELYALMSDCWIYKWEDRPDFLTVEQRMRACYYSLASKVEGPPGSTQKAEAACA'"
       ]
      }
     ],
     "prompt_number": 8
    },
    {
     "cell_type": "heading",
     "level": 3,
     "metadata": {},
     "source": [
      "UniProt service has also a mapping utility that can be called via BioServices"
     ]
    },
    {
     "cell_type": "markdown",
     "metadata": {},
     "source": [
      "The are 3 parameters required. The input database code, the output database code and query as a list of valid identifiers"
     ]
    },
    {
     "cell_type": "code",
     "collapsed": false,
     "input": [
      "u.mapping(\"ACC\", \"KEGG_ID\", 'P43403')"
     ],
     "language": "python",
     "metadata": {},
     "outputs": [
      {
       "metadata": {},
       "output_type": "pyout",
       "prompt_number": 9,
       "text": [
        "defaultdict(<type 'list'>, {'P43403': ['hsa:7535']})"
       ]
      }
     ],
     "prompt_number": 9
    },
    {
     "cell_type": "code",
     "collapsed": false,
     "input": [
      "u.mapping(\"ID\", \"PDB_ID\", \"P43403\")"
     ],
     "language": "python",
     "metadata": {},
     "outputs": [
      {
       "metadata": {},
       "output_type": "pyout",
       "prompt_number": 10,
       "text": [
        "defaultdict(<type 'list'>, {'P43403': ['1FBV', '1M61', '1U59', '2CBL', '2OQ1', '2OZO', '2Y1N', '3ZNI', '4A4B', '4A4C', '4K2R']})"
       ]
      }
     ],
     "prompt_number": 10
    },
    {
     "cell_type": "markdown",
     "metadata": {},
     "source": [
      "<hr>\n",
      "For more information, please see <a href=\"http://pythonhosted.org//bioservices/references.html?bioservices.uniprot.UniProt#module-bioservices.uniprot\">bioservices.uniprot module documentation.</a>"
     ]
    }
   ],
   "metadata": {}
  }
 ]
}