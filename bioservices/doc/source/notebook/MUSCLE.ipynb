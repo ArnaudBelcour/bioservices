{
 "metadata": {
  "name": "",
  "signature": "sha256:397efc22e3514e072f070c6cd36e18d68423891072c9a907f5dd4935065dd810"
 },
 "nbformat": 3,
 "nbformat_minor": 0,
 "worksheets": [
  {
   "cells": [
    {
     "cell_type": "heading",
     "level": 1,
     "metadata": {},
     "source": [
      "MUSCLE Web services from BioServices"
     ]
    },
    {
     "cell_type": "heading",
     "level": 3,
     "metadata": {},
     "source": [
      "MUSCLE service allows you to perform sequence alignment between sequences."
     ]
    },
    {
     "cell_type": "markdown",
     "metadata": {},
     "source": [
      "Here, we first use UniProt to fetch two sequences"
     ]
    },
    {
     "cell_type": "code",
     "collapsed": false,
     "input": [
      "from bioservices import *"
     ],
     "language": "python",
     "metadata": {},
     "outputs": [],
     "prompt_number": 1
    },
    {
     "cell_type": "code",
     "collapsed": false,
     "input": [
      "m = MUSCLE(verbose=False)"
     ],
     "language": "python",
     "metadata": {},
     "outputs": [],
     "prompt_number": 2
    },
    {
     "cell_type": "code",
     "collapsed": false,
     "input": [
      "u = UniProt()"
     ],
     "language": "python",
     "metadata": {},
     "outputs": [],
     "prompt_number": 3
    },
    {
     "cell_type": "code",
     "collapsed": false,
     "input": [
      "f1 = u.get_fasta(\"P18413\")\n",
      "f2 = u.get_fasta(\"P18412\")"
     ],
     "language": "python",
     "metadata": {},
     "outputs": [],
     "prompt_number": 4
    },
    {
     "cell_type": "code",
     "collapsed": false,
     "input": [
      "jobid = m.run(format=\"fasta\", sequence=f1+f2, email=\"test@ebi.ac.uk\")"
     ],
     "language": "python",
     "metadata": {},
     "outputs": [
      {
       "output_type": "stream",
       "stream": "stdout",
       "text": [
        "sequence=%3Esp%7CP18413%7CERD2_KLULA+ER+lumen+protein+retaining+receptor+OS%3DKluyveromyces+lactis+%28strain+ATCC+8585+%2F+CBS+2359+%2F+DSM+70799+%2F+NBRC+1267+%2F+NRRL+Y-1140+%2F+WM37%29+GN%3DERD2+PE%3D3+SV%3D1%0AMLNVFRIAGDFSHLASIIILIQSITTSNSVDGISLKTQLLYTLVFITRYLNLFTKWTSLY%0ANFLMKIVFISSSVYVIVLMRQQKFKNPVAYQDMITRDQFKIKFLIVPCILLGLIFNYRFS%0AFIQICWSFSLWLESVAILPQLFMLTKTGKAKQLTSHYIFALGLYRALYIPNWIWRYYTEE%0ARFDKLSVFTGVIQTLVYSDFFYIYYQKVIKLGGDLELPQ%0A%3Esp%7CP18412%7CTEC1_YEAST+Ty+transcription+activator+TEC1+OS%3DSaccharomyces+cerevisiae+%28strain+ATCC+204508+%2F+S288c%29+GN%3DTEC1+PE%3D1+SV%3D1%0AMSLKEDDFGKDNSRNIESYTGRIFDVYIQKDSYSQSALDDMFPEAVVSTAACVKNEAEDN%0AINLIDTHPQFELVNTGLGAKSDDLKSPSAKATFTDKQRKNEVPNISVSNYFPGQSSETSS%0ATTESWTIGCDKWSEKVEEAFLEALRLIMKNGTTKIKIRNANFGRNELISLYIKHKTNEFR%0ATKKQISSHIQVWKKTIQNKIKDSLTLSSKEKELLHLIEHGAEQTTENSNLFYDIFEEIID%0ASLPSVSDSGSLTPKNLYVSNNSSGLSVHSKLLTPITASNEKKIENFIKTNAASQAKTPLI%0AYAKHIYENIDGYKCVPSKRPLEQLSPTELHQGDRPNKASFSNKKAILESAKKIEIEQRKI%0AINKYQRISRIQEHESNPEFSSNSNSGSEYESEEEVVPRSATVTQLQSRPVPYYKNNGMPY%0ASLSKVRGRPMYPRPAEDAYNANYIQGLPQYQTSYFSQLLLSSPQHYEHSPHQRNFTPSNQ%0ASHGNFY%0A&email=test%40ebi.ac.uk&format=fasta\n",
        "<urllib2.Request instance at 0x3c08290>\n"
       ]
      }
     ],
     "prompt_number": 5
    },
    {
     "cell_type": "code",
     "collapsed": false,
     "input": [
      "res = m.getResult(jobid, \"out\")"
     ],
     "language": "python",
     "metadata": {},
     "outputs": [],
     "prompt_number": 7
    },
    {
     "cell_type": "code",
     "collapsed": false,
     "input": [
      "print(res)"
     ],
     "language": "python",
     "metadata": {},
     "outputs": [
      {
       "output_type": "stream",
       "stream": "stdout",
       "text": [
        "Started Tue May  6 13:50:44 2014\n",
        "/nfs/public/ro/es/appbin/linux-x86_64/muscle-3.8.31/muscle -in muscle-R20140506-135043-0098-5680476-pg.sequence -verbose -log muscle-R20140506-135043-0098-5680476-pg.output -quiet -fasta -out muscle-R20140506-135043-0098-5680476-pg.fasta \n",
        "Alphabet Amino\n",
        "\n",
        "MUSCLE v3.8.31 by Robert C. Edgar\n",
        "http://www.drive5.com/muscle\n",
        "\n",
        "Profile-profile score    LE\n",
        "Max iterations           8\n",
        "Max trees                1\n",
        "Max time                 (No limit)\n",
        "Max MB                   4294966101\n",
        "Gap open                 -2.9\n",
        "Gap extend (dimer)       0\n",
        "Gap ambig factor         0\n",
        "Gap ambig penalty        -0\n",
        "Center (LE)              -0.52\n",
        "Term gaps                Half\n",
        "Smooth window length     7\n",
        "Refine window length     200\n",
        "Min anchor spacing       32\n",
        "Min diag length (lambda) 24\n",
        "Diag margin (mu)         5\n",
        "Min diag break           1\n",
        "Hydrophobic window       5\n",
        "Hydrophobic gap factor   1.2\n",
        "Smooth score ceiling     3\n",
        "Min best col score       2\n",
        "Min anchor score         1\n",
        "SUEFF                    0.1\n",
        "Brenner root MSA         False\n",
        "Normalize counts         True\n",
        "Diagonals (1)            False\n",
        "Diagonals (2)            False\n",
        "Anchors                  True\n",
        "MSF output format        False\n",
        "Phylip interleaved       False\n",
        "Phylip sequential        False\n",
        "ClustalW output format   False\n",
        "Catch exceptions         True\n",
        "Quiet                    True\n",
        "Refine                   False\n",
        "ProdfDB                  False\n",
        "Low complexity profiles  True\n",
        "Objective score          SPM\n",
        "Distance method (1)      Kmer6_6\n",
        "Clustering method (1)    UPGMB\n",
        "Root method (1)          Pseudo\n",
        "Sequence weighting (1)   ClustalW\n",
        "Distance method (2)      PctIdKimura\n",
        "Clustering method (2)    UPGMB\n",
        "Root method (2)          Pseudo\n",
        "Sequence weighting (2)   ClustalW\n",
        "\n",
        "Elapsed time 00:00:00  Peak memory use   11 MB(-1%)  Iteration   1 K-mer dist pass 1\n",
        "Elapsed time 00:00:00  Peak memory use   11 MB(-1%)  Iteration   1 K-mer dist pass 2\n",
        "Align: (sp|P18413|ERD2_KLULA ER lumen protein retaining receptor OS=Kluyveromyces lactis (strain ATCC 8585 / CBS 2359 / DSM 70799 / NBRC 1267 / NRRL Y-1140 / WM37) GN=ERD2 PE=3 SV=1) (sp|P18412|TEC1_YEAST Ty transcription activator TEC1 OS=Saccharomyces cerevisiae (strain ATCC 204508 / S288c) GN=TEC1 PE=1 SV=1)\n",
        "Elapsed time 00:00:00  Peak memory use   13 MB(-1%)  Iteration   1 Align node\n",
        "Elapsed time 00:00:00  Peak memory use   13 MB(-1%)  Iteration   1 Root alignment\n",
        "Finished Tue May  6 13:50:44 2014\n",
        "\n"
       ]
      }
     ],
     "prompt_number": 8
    },
    {
     "cell_type": "code",
     "collapsed": false,
     "input": [],
     "language": "python",
     "metadata": {},
     "outputs": []
    }
   ],
   "metadata": {}
  }
 ]
}