{
 "metadata": {
  "name": "",
  "signature": "sha256:8c731e7e8e0a13a31994846c1463c668add81aa4375f57af9ff499974bf76eb9"
 },
 "nbformat": 3,
 "nbformat_minor": 0,
 "worksheets": [
  {
   "cells": [
    {
     "cell_type": "heading",
     "level": 1,
     "metadata": {},
     "source": [
      "Examples and applications of the EUtils module\n",
      "    "
     ]
    },
    {
     "cell_type": "markdown",
     "metadata": {},
     "source": [
      "The example here below are extracted from (perl code)\n",
      "\n",
      "http://www.ncbi.nlm.nih.gov/books/NBK25498/#chapter3\n",
      "    \n",
      "and used here below to show how \n",
      "- to use BioServices to access to EUtils, the Entrez utilities    \n",
      "- call Etutils in a proper way (e.g., using EPost)"
     ]
    },
    {
     "cell_type": "code",
     "collapsed": false,
     "input": [
      "from bioservices import EUtils\n",
      "e = EUtils()\n",
      "\n",
      "# you should provide your email in one of the 3 following ways:\n",
      "# e = EUTils(email=\"yours\")\n",
      "# e = EUtils(); e.email = \"yours\"\n",
      "# fill the ./config/bioservices/bioservices.cfg with a section\n",
      "#     [user]\n",
      "#     email = yours"
     ],
     "language": "python",
     "metadata": {},
     "outputs": [
      {
       "output_type": "stream",
       "stream": "stderr",
       "text": [
        "INFO:root:Initialising Efetch service (REST)\n"
       ]
      }
     ],
     "prompt_number": 20
    },
    {
     "cell_type": "heading",
     "level": 2,
     "metadata": {},
     "source": [
      "ESearch and ESummary/EFetch example"
     ]
    },
    {
     "cell_type": "code",
     "collapsed": false,
     "input": [
      "# Download PubMed records that are indexed in MeSH for both asthma and \n",
      "# leukotrienes and were also published in 2009.\n",
      "query = 'asthma[mesh]+AND+leukotrienes[mesh]+AND+2009[pdat]'\n",
      "db = 'pubmed'\n",
      "\n",
      "# here, we use the history that will populate in results the fields called WebEnv and query_key\n",
      "results = e.ESearch(db, query, usehistory='y')\n",
      "results.WebEnv\n",
      "results.QueryKey"
     ],
     "language": "python",
     "metadata": {},
     "outputs": [
      {
       "metadata": {},
       "output_type": "pyout",
       "prompt_number": 21,
       "text": [
        "1"
       ]
      }
     ],
     "prompt_number": 21
    },
    {
     "cell_type": "code",
     "collapsed": false,
     "input": [
      "# How to figure out the correct parameter name for ESummary ?\n",
      "e.get_esummary_params()\n"
     ],
     "language": "python",
     "metadata": {},
     "outputs": [
      {
       "metadata": {},
       "output_type": "pyout",
       "prompt_number": 22,
       "text": [
        "(eSummaryRequest){\n",
        "   db = None\n",
        "   id = None\n",
        "   WebEnv = None\n",
        "   query_key = None\n",
        "   retstart = None\n",
        "   retmax = None\n",
        "   tool = \"BioServices, 1.3.0\"\n",
        "   email = \"cokelaer@ebi.ac.uk\"\n",
        " }"
       ]
      }
     ],
     "prompt_number": 22
    },
    {
     "cell_type": "code",
     "collapsed": false,
     "input": [
      "# we can now resuse the query and webenv values\n",
      "res = e.ESummary(db,  query_key=results.QueryKey, WebEnv=results.WebEnv)"
     ],
     "language": "python",
     "metadata": {},
     "outputs": [],
     "prompt_number": 23
    },
    {
     "cell_type": "code",
     "collapsed": false,
     "input": [
      "data = e.EFetch(db,query_key=results.QueryKey, WebEnv=results.WebEnv, rettype=\"abstract\", retmode=\"text\")\n",
      "print(data[0:200])"
     ],
     "language": "python",
     "metadata": {},
     "outputs": [
      {
       "output_type": "stream",
       "stream": "stderr",
       "text": [
        "INFO:requests.packages.urllib3.connectionpool:Starting new HTTP connection (1): eutils.ncbi.nlm.nih.gov\n"
       ]
      },
      {
       "output_type": "stream",
       "stream": "stdout",
       "text": [
        "\n",
        "1. Zhongguo Dang Dai Er Ke Za Zhi. 2009 Nov;11(11):909-12.\n",
        "\n",
        "[Urinary leukotrience E(4) level in children with asthma].\n",
        "\n",
        "[Article in Chinese]\n",
        "\n",
        "He MJ(1), Chen Q, Liu JM.\n",
        "\n",
        "Author information: \n",
        "(1)Depart\n"
       ]
      }
     ],
     "prompt_number": 24
    },
    {
     "cell_type": "markdown",
     "metadata": {},
     "source": [
      "<h2>EPost and ESummary/EFetch example</h2>\n",
      "- Input: List of Entrez UIDs (integer identifiers, e.g. PMID, GI, Gene ID)\n",
      "- ESummary Output: XML Document Summaries\n",
      "- EFetch Output: Formatted data records (e.g. abstracts, FASTA)\n"
     ]
    },
    {
     "cell_type": "markdown",
     "metadata": {},
     "source": [
      " List of Entrez UIDs (integer identifiers, e.g. PMID, GI, Gene ID)"
     ]
    },
    {
     "cell_type": "code",
     "collapsed": false,
     "input": [
      "db = 'protein'\n",
      "id_list = '194680922,50978626,28558982,9507199,6678417'"
     ],
     "language": "python",
     "metadata": {},
     "outputs": [],
     "prompt_number": 25
    },
    {
     "cell_type": "code",
     "collapsed": false,
     "input": [
      "results = e.EPost(db, id_list)"
     ],
     "language": "python",
     "metadata": {},
     "outputs": [],
     "prompt_number": 26
    },
    {
     "cell_type": "code",
     "collapsed": false,
     "input": [
      "results"
     ],
     "language": "python",
     "metadata": {},
     "outputs": [
      {
       "metadata": {},
       "output_type": "pyout",
       "prompt_number": 27,
       "text": [
        "(reply){\n",
        "   QueryKey = \"1\"\n",
        "   WebEnv = \"NCID_1_311096996_130.14.18.34_9001_1410196505_465456362_0MetA0_S_MegaStore_F_1\"\n",
        " }"
       ]
      }
     ],
     "prompt_number": 27
    },
    {
     "cell_type": "code",
     "collapsed": false,
     "input": [
      "summary = e.ESummary(db, query_key=results.QueryKey, WebEnv=results.WebEnv)"
     ],
     "language": "python",
     "metadata": {},
     "outputs": [],
     "prompt_number": 28
    },
    {
     "cell_type": "code",
     "collapsed": false,
     "input": [
      "summary = e.EFetch(db, query_key=results.QueryKey, WebEnv=results.WebEnv, retmode=\"text\", rettype=\"fasta\")"
     ],
     "language": "python",
     "metadata": {},
     "outputs": [
      {
       "output_type": "stream",
       "stream": "stderr",
       "text": [
        "INFO:requests.packages.urllib3.connectionpool:Resetting dropped connection: eutils.ncbi.nlm.nih.gov\n"
       ]
      }
     ],
     "prompt_number": 29
    },
    {
     "cell_type": "code",
     "collapsed": false,
     "input": [
      "print(summary[0:500])\n"
     ],
     "language": "python",
     "metadata": {},
     "outputs": [
      {
       "output_type": "stream",
       "stream": "stdout",
       "text": [
        ">gi|194680922|ref|XP_603356.4| PREDICTED: similar to Thyroid peroxidase precursor (TPO) [Bos taurus]\n",
        "METAEVQKLPPTNRETRSVPSKKRGCGWVMEGHRQVLESLTPLKTTVLFTRNFMQKSQSQSLNISGPRVV\n",
        "RGRWWFGPGLVWSQLEEGLWADGARFPVISAQKRCWQMRARAVLGVVLAVTCAGAVFSFLLRPGGLLWGE\n",
        "TEESQVRGIVEASRLLVDKSVYAAMRRNLHKREVISPAQLLSFSKLPEPTSRAASRAAEVMEASVQEAAR\n",
        "RGHLRSGPSQLPTDALSEGLLSAIANLSGCLPYMLPPRCPATCLASKYRLISGACNNRDHPRWGASNTAL\n",
        "ARWLPPAYEDGISEPRGWNPHFLYKGFPLPPVREVTRRIIHASNEAVTGDDRYSDLLTAWGQYIDHDIAF\n",
        "TPQSAAPSAPWVGADCQLTCEPRSPCFPIQLPANAAGPACLPFY\n"
       ]
      }
     ],
     "prompt_number": 30
    },
    {
     "cell_type": "markdown",
     "metadata": {},
     "source": [
      "<h2>ELink \u2013 ESummary/Efetch</h2>\n",
      "\n",
      "- Input: List of Entrez UIDs in database A (integer identifiers, e.g. PMID, GI, Gene ID)\n",
      "- ESummary Output: Linked XML Document Summaries from database B\n",
      "- EFetch Output: Formatted data records (e.g. abstracts, FASTA) from database B"
     ]
    },
    {
     "cell_type": "code",
     "collapsed": false,
     "input": [
      "dbfrom = 'protein'\n",
      "db = 'gene'\n",
      "linkname = 'protein_gene'\n",
      "# here is the list of identifiers in protein database (GIs)\n",
      "id_list = '194680922,50978626,28558982,9507199,6678417'"
     ],
     "language": "python",
     "metadata": {},
     "outputs": [],
     "prompt_number": 31
    },
    {
     "cell_type": "code",
     "collapsed": false,
     "input": [
      "results = e.ELink(dbfrom, sid=id_list, db=db, linkname=linkname, cmd=\"neighbor_history\")\n",
      "QueryKey = results.LinkSet[0].LinkSetDbHistory[0].QueryKey\n",
      "\n",
      "WebEnv = results.LinkSet[0].WebEnv\n",
      "WebEnv"
     ],
     "language": "python",
     "metadata": {},
     "outputs": [
      {
       "metadata": {},
       "output_type": "pyout",
       "prompt_number": 32,
       "text": [
        "NCID_1_311097941_130.14.18.34_9001_1410196510_1820950996_0MetA0_S_MegaStore_F_1"
       ]
      }
     ],
     "prompt_number": 32
    },
    {
     "cell_type": "code",
     "collapsed": false,
     "input": [
      "# include the previous results (WEbEnv and querykey)  in a esummary call\n",
      "summary = e.ESummary(db=db, query_key=QueryKey, WebEnv=WebEnv)"
     ],
     "language": "python",
     "metadata": {},
     "outputs": [],
     "prompt_number": 33
    },
    {
     "cell_type": "code",
     "collapsed": false,
     "input": [
      "# example of contenst that can be extracted:\n",
      "docsum = summary.DocSum[0]\n",
      "docsum.Item[1]"
     ],
     "language": "python",
     "metadata": {},
     "outputs": [
      {
       "metadata": {},
       "output_type": "pyout",
       "prompt_number": 34,
       "text": [
        "(ItemType){\n",
        "   _Type = \"String\"\n",
        "   _Name = \"Description\"\n",
        "   ItemContent = \"thyroid peroxidase\"\n",
        " }"
       ]
      }
     ],
     "prompt_number": 34
    },
    {
     "cell_type": "code",
     "collapsed": true,
     "input": [
      "data = e.EFetch(db=db, query_key=QueryKey, WebEnv=WebEnv, rettype=\"xml\", retmode=\"xml\")"
     ],
     "language": "python",
     "metadata": {},
     "outputs": [
      {
       "output_type": "stream",
       "stream": "stderr",
       "text": [
        "INFO:requests.packages.urllib3.connectionpool:Resetting dropped connection: eutils.ncbi.nlm.nih.gov\n"
       ]
      }
     ],
     "prompt_number": 35
    },
    {
     "cell_type": "code",
     "collapsed": false,
     "input": [
      "data.root.getchildren()[0].getchildren()\n"
     ],
     "language": "python",
     "metadata": {},
     "outputs": [
      {
       "metadata": {},
       "output_type": "pyout",
       "prompt_number": 36,
       "text": [
        "[<Element 'Entrezgene_track-info' at 0x5415910>,\n",
        " <Element 'Entrezgene_type' at 0x5415d10>,\n",
        " <Element 'Entrezgene_source' at 0x5415ad0>,\n",
        " <Element 'Entrezgene_gene' at 0x52f68d0>,\n",
        " <Element 'Entrezgene_prot' at 0x521f710>,\n",
        " <Element 'Entrezgene_summary' at 0x521f590>,\n",
        " <Element 'Entrezgene_location' at 0x521f390>,\n",
        " <Element 'Entrezgene_gene-source' at 0x521fa90>,\n",
        " <Element 'Entrezgene_locus' at 0x521fad0>,\n",
        " <Element 'Entrezgene_properties' at 0x45a5710>,\n",
        " <Element 'Entrezgene_homology' at 0x45cbcd0>,\n",
        " <Element 'Entrezgene_comments' at 0x4761090>,\n",
        " <Element 'Entrezgene_unique-keys' at 0x95d99d0>,\n",
        " <Element 'Entrezgene_xtra-index-terms' at 0x95d9790>,\n",
        " <Element 'Entrezgene_xtra-properties' at 0x95d9650>]"
       ]
      }
     ],
     "prompt_number": 36
    },
    {
     "cell_type": "markdown",
     "metadata": {},
     "source": [
      "<h2>ESearch - ELink - ESummary/EFetch</h2>\n",
      "- Input: Entrez text query in database A\n",
      "- ESummary Output: Linked XML Document Summaries from database B\n",
      "- EFetch Output: Formatted data records (e.g. abstracts, FASTA) from database B"
     ]
    },
    {
     "cell_type": "code",
     "collapsed": false,
     "input": [
      "# Download protein FASTA records linked to abstracts published \n",
      "# in 2009 that are indexed in MeSH for both asthma and \n",
      "# leukotrienes.\n",
      "db1 = 'pubmed'\n",
      "db2 = 'protein'\n",
      "linkname = 'pubmed_protein'\n",
      "query = 'asthma[mesh]+AND+leukotrienes[mesh]+AND+2009[pdat]'"
     ],
     "language": "python",
     "metadata": {},
     "outputs": [],
     "prompt_number": 37
    },
    {
     "cell_type": "code",
     "collapsed": false,
     "input": [
      "results = e.ESearch(db1, term=query, usehistory='y')"
     ],
     "language": "python",
     "metadata": {},
     "outputs": [],
     "prompt_number": 38
    },
    {
     "cell_type": "code",
     "collapsed": false,
     "input": [
      "#call ELink with previous key and env\n",
      "output = e.ELink(db1, db=db2, query_key=results.QueryKey, WebEnv=results.WebEnv, \n",
      "                 cmd=\"neighbor_history\", linkname=linkname)"
     ],
     "language": "python",
     "metadata": {},
     "outputs": [],
     "prompt_number": 39
    },
    {
     "cell_type": "code",
     "collapsed": false,
     "input": [
      "WebEnv2 = output.LinkSet[0].WebEnv"
     ],
     "language": "python",
     "metadata": {},
     "outputs": [],
     "prompt_number": 40
    },
    {
     "cell_type": "code",
     "collapsed": false,
     "input": [
      "QueryKey2 = output.LinkSet[0].LinkSetDbHistory[0].QueryKey"
     ],
     "language": "python",
     "metadata": {},
     "outputs": [],
     "prompt_number": 41
    },
    {
     "cell_type": "code",
     "collapsed": false,
     "input": [
      "docsums = e.ESummary(db=db2, query_key=QueryKey2, WebEnv=WebEnv2)"
     ],
     "language": "python",
     "metadata": {},
     "outputs": [],
     "prompt_number": 42
    },
    {
     "cell_type": "code",
     "collapsed": false,
     "input": [
      "data = e.EFetch(db=db2, query_key=QueryKey2, WebEnv=WebEnv2, rettype=\"fasta\", retmode=\"text\")"
     ],
     "language": "python",
     "metadata": {},
     "outputs": [
      {
       "output_type": "stream",
       "stream": "stderr",
       "text": [
        "INFO:requests.packages.urllib3.connectionpool:Resetting dropped connection: eutils.ncbi.nlm.nih.gov\n"
       ]
      }
     ],
     "prompt_number": 43
    },
    {
     "cell_type": "code",
     "collapsed": false,
     "input": [
      "print(data)"
     ],
     "language": "python",
     "metadata": {},
     "outputs": [
      {
       "output_type": "stream",
       "stream": "stdout",
       "text": [
        ">gi|16924014|ref|NP_476492.1| C-C motif chemokine 17 precursor [Rattus norvegicus]\n",
        "MMSLQMLLLAALLLGTSLQHASAARATNVGRECCLDYFKGAIPIRKLVTWFRTSVECPKDAIVFETVQGR\n",
        "LICTDPKDKHVKKAIRHLKNQRL\n",
        "\n",
        ">gi|8392897|ref|NP_058956.1| arachidonate 5-lipoxygenase-activating protein [Rattus norvegicus]\n",
        "MDQEAVGNVVLLAIVTLISVVQNAFFAHKVELESKAQSGRSFQRTGTLAFERVYTANQNCVDAYPTFLVV\n",
        "LWTAGLLCSQVPAAFAGLMYLFVRQKYFVGYLGERTQSTPGYIFGKRIILFLFLMSLAGILNHYLIFFFG\n",
        "SDFENYIRTITTTISPLLLIP\n",
        "\n",
        "\n"
       ]
      }
     ],
     "prompt_number": 44
    },
    {
     "cell_type": "markdown",
     "metadata": {},
     "source": [
      "<h2>Application1: Converting GI numbers to accession numbers </h2>\n",
      "- Goal: Starting with a list of nucleotide GI numbers, prepare a set of corresponding accession numbers.\n",
      "- Solution: Use EFetch with &retttype=acc\n",
      "- Input: $gi_list \u2013 comma-delimited list of GI numbers\n",
      "- Output: List of accession numbers."
     ]
    },
    {
     "cell_type": "code",
     "collapsed": false,
     "input": [
      "gi_list = '24475906,224465210,50978625,9507198';\n",
      "output = e.EFetch('nucleotide', gi_list, rettype=\"acc\")\n"
     ],
     "language": "python",
     "metadata": {},
     "outputs": [
      {
       "output_type": "stream",
       "stream": "stderr",
       "text": [
        "INFO:requests.packages.urllib3.connectionpool:Resetting dropped connection: eutils.ncbi.nlm.nih.gov\n"
       ]
      }
     ],
     "prompt_number": 45
    },
    {
     "cell_type": "code",
     "collapsed": false,
     "input": [
      "print(output)"
     ],
     "language": "python",
     "metadata": {},
     "outputs": [
      {
       "output_type": "stream",
       "stream": "stdout",
       "text": [
        "NM_009417.2\n",
        "NM_000547.4\n",
        "NM_001003009.1\n",
        "NM_019353.1\n",
        "\n"
       ]
      }
     ],
     "prompt_number": 46
    },
    {
     "cell_type": "code",
     "collapsed": false,
     "input": [
      "#  The order of the accessions in the output will be the same order as the GI numbers in $gi_list."
     ],
     "language": "python",
     "metadata": {},
     "outputs": [],
     "prompt_number": 47
    },
    {
     "cell_type": "markdown",
     "metadata": {},
     "source": [
      "Application 2: Converting accession numbers to data \n",
      "- Goal: Starting with a list of protein accession numbers, return the sequences in FASTA format.\n",
      "- Solution: Create a string consisting of items separated by 'OR', where each item is an accession number followed by '[accn]'. Example: accn1[accn]+OR+accn2[accn]+OR+accn3[accn]+OR+\u2026\n",
      "- Submit this string as a &term in ESearch, then use EFetch to retrieve the FASTA data.\n",
      "- Input: $acc_list \u2013 comma-delimited list of accessions\n",
      "- Output: FASTA data "
     ]
    },
    {
     "cell_type": "code",
     "collapsed": false,
     "input": [
      "acc_list = 'NM_009417,NM_000547,NM_001003009,NM_019353'\n",
      "query = \"+OR+\".join(acc_list.split(\",\"))\n"
     ],
     "language": "python",
     "metadata": {},
     "outputs": [],
     "prompt_number": 48
    },
    {
     "cell_type": "code",
     "collapsed": false,
     "input": [
      "results = e.ESearch(db='nucleotide', term=query, usehistory='y')"
     ],
     "language": "python",
     "metadata": {},
     "outputs": [],
     "prompt_number": 49
    },
    {
     "cell_type": "code",
     "collapsed": false,
     "input": [
      "results.WebEnv, results.QueryKey\n"
     ],
     "language": "python",
     "metadata": {},
     "outputs": [
      {
       "metadata": {},
       "output_type": "pyout",
       "prompt_number": 50,
       "text": [
        "(NCID_1_311102141_130.14.18.34_9001_1410196532_664070211_0MetA0_S_MegaStore_F_1,\n",
        " 1)"
       ]
      }
     ],
     "prompt_number": 50
    },
    {
     "cell_type": "code",
     "collapsed": false,
     "input": [
      "# Note that there is maybe a typo on the NCBI website where protein is used in place of nucleotide. \n",
      "# If we set db=protein, we get a bd request response\n",
      "data = e.EFetch('nucleotide', sid=None, query_key=results.QueryKey, WebEnv=results.WebEnv, rettype='fasta', retmode='text')\n",
      "print(data[0:500])"
     ],
     "language": "python",
     "metadata": {},
     "outputs": [
      {
       "output_type": "stream",
       "stream": "stderr",
       "text": [
        "INFO:requests.packages.urllib3.connectionpool:Resetting dropped connection: eutils.ncbi.nlm.nih.gov\n"
       ]
      },
      {
       "output_type": "stream",
       "stream": "stdout",
       "text": [
        ">gi|253735815|ref|NM_000547.5| Homo sapiens thyroid peroxidase (TPO), transcript variant 1, mRNA\n",
        "GGAAGGCAATTAAGGCGCCCATTTCAGAAGAGTTACAGCCGTGAAAATTACTCAGCAGTGCAGTTGGCTG\n",
        "AGAAGAGGAAAAAAGGTCAGAATGAGAGCGCTCGCTGTGCTGTCTGTCACGCTGGTTATGGCCTGCACAG\n",
        "AAGCCTTCTTCCCCTTCATCTCGAGAGGGAAAGAACTCCTTTGGGGAAAGCCTGAGGAGTCTCGTGTCTC\n",
        "TAGCGTCTTGGAGGAAAGCAAGCGCCTGGTGGACACCGCCATGTACGCCACGATGCAGAGAAACCTCAAG\n",
        "AAAAGAGGAATCCTTTCTCCAGCTCAGCTTCTGTCTTTTTCCAAACTTCCTGAGCCAACAAGCGGAGTGA\n",
        "TTGCCCGAGCAGCAGAGATAATGGAAACATCAATACAAGCGATGAAAA\n"
       ]
      }
     ],
     "prompt_number": 51
    },
    {
     "cell_type": "code",
     "collapsed": false,
     "input": [
      "e._efetch.last_response.reason"
     ],
     "language": "python",
     "metadata": {},
     "outputs": [
      {
       "metadata": {},
       "output_type": "pyout",
       "prompt_number": 52,
       "text": [
        "'OK'"
       ]
      }
     ],
     "prompt_number": 52
    },
    {
     "cell_type": "markdown",
     "metadata": {},
     "source": [
      "<h2>Application 3: Retrieving large datasets </h2>\n",
      "- Goal: Download all chimpanzee mRNA sequences in FASTA format (>50,000 sequences).\n",
      "- Solution: First use ESearch to retrieve the GI numbers for these sequences and post them on the History server, then use multiple EFetch calls to retrieve the data in batches of 500.\n",
      "- Input: query \u2013 chimpanzee[orgn]+AND+biomol+mrna[prop]\n",
      "- Output: A file named \"chimp.fna\" containing FASTA data."
     ]
    },
    {
     "cell_type": "code",
     "collapsed": false,
     "input": [
      "query = 'chimpanzee[orgn]+AND+biomol+mrna[prop]'"
     ],
     "language": "python",
     "metadata": {},
     "outputs": [],
     "prompt_number": 53
    },
    {
     "cell_type": "code",
     "collapsed": false,
     "input": [
      "output = e.ESearch(db='nucleotide', term=query, usehistory='y')"
     ],
     "language": "python",
     "metadata": {},
     "outputs": [],
     "prompt_number": 54
    },
    {
     "cell_type": "code",
     "collapsed": false,
     "input": [
      "# there are lots of entries and we get only 20 by default\n",
      "output.Count"
     ],
     "language": "python",
     "metadata": {},
     "outputs": [
      {
       "metadata": {},
       "output_type": "pyout",
       "prompt_number": 55,
       "text": [
        "156307"
       ]
      }
     ],
     "prompt_number": 55
    },
    {
     "cell_type": "code",
     "collapsed": false,
     "input": [
      "output.WebEnv, output.QueryKey"
     ],
     "language": "python",
     "metadata": {},
     "outputs": [
      {
       "metadata": {},
       "output_type": "pyout",
       "prompt_number": 56,
       "text": [
        "(NCID_1_311107112_130.14.22.215_9001_1410196538_271370888_0MetA0_S_MegaStore_F_1,\n",
        " 1)"
       ]
      }
     ],
     "prompt_number": 56
    },
    {
     "cell_type": "code",
     "collapsed": false,
     "input": [
      "# very slow and large file. For demonstration, let us get only 4 batches of 500 sequences\n",
      "retmax = 500\n",
      "output.Count=1501\n",
      "with open('chimp.rna', 'w') as fh:\n",
      "    # retrieve data in batch of 500\n",
      "    for i in range(0, int(output.Count)/retmax + 1):\n",
      "        data = e.EFetch('nucleotide', WebEnv=output.WebEnv, retstart=i*retmax, query_key=output.QueryKey, \n",
      "                 retmax=retmax, retmode='text', rettype='fasta')\n",
      "        fh.write(data)\n",
      "        print(\"{0} batches out of {1} done\".format(i+1, int(output.Count)/retmax+1))\n",
      "\n",
      "# delete the file\n",
      "#import os\n",
      "#os.remove('chimp.rna')"
     ],
     "language": "python",
     "metadata": {},
     "outputs": [
      {
       "output_type": "stream",
       "stream": "stderr",
       "text": [
        "INFO:requests.packages.urllib3.connectionpool:Resetting dropped connection: eutils.ncbi.nlm.nih.gov\n"
       ]
      },
      {
       "output_type": "stream",
       "stream": "stdout",
       "text": [
        "1 batches out of 4 done\n",
        "2 batches out of 4 done"
       ]
      },
      {
       "output_type": "stream",
       "stream": "stdout",
       "text": [
        "\n",
        "3 batches out of 4 done"
       ]
      },
      {
       "output_type": "stream",
       "stream": "stdout",
       "text": [
        "\n",
        "4 batches out of 4 done"
       ]
      },
      {
       "output_type": "stream",
       "stream": "stdout",
       "text": [
        "\n"
       ]
      }
     ],
     "prompt_number": 57
    },
    {
     "cell_type": "markdown",
     "metadata": {},
     "source": [
      "<h2>Application 4: Finding unique sets of linked records for each member of a large dataset</h2>\n",
      "- Goal: Download separately the SNP rs numbers (identifiers) for each current gene on human chromosome 20.\n",
      "- Solution: First use ESearch to retrieve the Gene IDs for the genes, and then assemble an ELink URL where each Gene ID is submitted as a separate &id parameter.\n",
      "- Input: query \u2013 human[orgn]+AND+20[chr]+AND+alive[prop]\n",
      "- Output: A file named \"snp_table\" containing on each line the gene id followed by a colon (\":\") followed by a comma-delimited list of the linked SNP rs numbers."
     ]
    },
    {
     "cell_type": "code",
     "collapsed": false,
     "input": [
      "query = 'human[orgn]+AND+20[chr]+AND+alive[prop]'\n",
      "db1 = 'gene'\n",
      "db2 = 'snp'\n",
      "linkname = 'gene_snp'"
     ],
     "language": "python",
     "metadata": {},
     "outputs": [],
     "prompt_number": 63
    },
    {
     "cell_type": "markdown",
     "metadata": {},
     "source": [
      "Notes: The retmax parameter in the ESearch call is set to 5000, as this is a reasonable limit to the number of IDs to send to ELink in one request (if you send 5000 IDs, you are effectively performing 5000 ELink operations). If you need to link more than 5000 records, add &retstart to the ESearch call and repeat the entire procedure for each batch of 5000 IDs, incrementing &retstart for each batch like in application 3.\n"
     ]
    },
    {
     "cell_type": "code",
     "collapsed": false,
     "input": [
      "output = e.ESearch(db=db1, term=query, usehistory='y', RetMax=5000)"
     ],
     "language": "python",
     "metadata": {},
     "outputs": [],
     "prompt_number": 64
    },
    {
     "cell_type": "code",
     "collapsed": false,
     "input": [
      "ids = output.IdList.Id[0:10]  # only 10 ids to speed up the example\n"
     ],
     "language": "python",
     "metadata": {},
     "outputs": [],
     "prompt_number": 65
    },
    {
     "cell_type": "markdown",
     "metadata": {},
     "source": [
      "Here, we retrieve 200 identifiers using the ELink method, which is based on WSDL. \n",
      "THe number of identifiers is limited to 200 with this service"
     ]
    },
    {
     "cell_type": "code",
     "collapsed": false,
     "input": [
      "results = e.ELink(db1, db=db2, linkname=linkname, sid=ids)"
     ],
     "language": "python",
     "metadata": {},
     "outputs": [],
     "prompt_number": 66
    },
    {
     "cell_type": "code",
     "collapsed": false,
     "input": [
      "results.LinkSet[0].IdList.Id  # DO NOT print the entire structure, it's very large."
     ],
     "language": "python",
     "metadata": {},
     "outputs": [
      {
       "metadata": {},
       "output_type": "pyout",
       "prompt_number": 67,
       "text": [
        "[598, 958, 1457, 1471, 1869, 2778, 4318, 5621, 6714, 6790]"
       ]
      }
     ],
     "prompt_number": 67
    },
    {
     "cell_type": "markdown",
     "metadata": {},
     "source": [
      "On NCBI page, they use the REST service instead. You can manually call the service as follows so thast you can use HTTP POST request. With REST and a HTTP post request, you can get 5000 identifiers."
     ]
    },
    {
     "cell_type": "code",
     "collapsed": false,
     "input": [
      "from bioservices import REST\n",
      "elink = REST(\"elink\", url = 'http://eutils.ncbi.nlm.nih.gov/entrez/eutils/')"
     ],
     "language": "python",
     "metadata": {},
     "outputs": [
      {
       "output_type": "stream",
       "stream": "stderr",
       "text": [
        "INFO:root:Initialising elink service (REST)\n"
       ]
      }
     ],
     "prompt_number": 68
    },
    {
     "cell_type": "code",
     "collapsed": false,
     "input": [
      "ids = output.IdList.Id[0:500]\n",
      "\n",
      "res = elink.http_post(\"elink.fcgi\", frmt='xml', \n",
      "                params={'dbfrom':db1, 'db':db2, 'id':ids, 'linkname':linkname, 'retmode':'text'}, \n",
      "                headers={'Content-Type': 'application/x-www-form-urlencoded', 'User-Agent':'elink'} )"
     ],
     "language": "python",
     "metadata": {},
     "outputs": [
      {
       "output_type": "stream",
       "stream": "stderr",
       "text": [
        "INFO:requests.packages.urllib3.connectionpool:Starting new HTTP connection (1): eutils.ncbi.nlm.nih.gov\n"
       ]
      }
     ],
     "prompt_number": 69
    },
    {
     "cell_type": "code",
     "collapsed": false,
     "input": [
      "res = elink.easyXML(res)"
     ],
     "language": "python",
     "metadata": {},
     "outputs": [],
     "prompt_number": 70
    },
    {
     "cell_type": "code",
     "collapsed": false,
     "input": [
      "identifiers = {}\n",
      "\n",
      "for link in res.root.getchildren():\n",
      "    this_id = link.getchildren()[1].getchildren()[0].text\n",
      "    links = [this.find('Id').text for this in link.find('LinkSetDb').findall('Link')]\n",
      "    identifiers[this_id] = links[:]\n"
     ],
     "language": "python",
     "metadata": {},
     "outputs": []
    },
    {
     "cell_type": "code",
     "collapsed": false,
     "input": [
      "identifiers.keys()[0:10]\n",
      "\n"
     ],
     "language": "python",
     "metadata": {},
     "outputs": [
      {
       "metadata": {},
       "output_type": "pyout",
       "prompt_number": 125,
       "text": [
        "['5173',\n",
        " '1789',\n",
        " '6614',\n",
        " '9584',\n",
        " '8894',\n",
        " '3929',\n",
        " '55612',\n",
        " '5740',\n",
        " '10398',\n",
        " '11054']"
       ]
      }
     ],
     "prompt_number": 125
    },
    {
     "cell_type": "code",
     "collapsed": false,
     "input": [
      "len(identifiers['4318'])"
     ],
     "language": "python",
     "metadata": {},
     "outputs": [
      {
       "metadata": {},
       "output_type": "pyout",
       "prompt_number": 124,
       "text": [
        "487"
       ]
      }
     ],
     "prompt_number": 124
    },
    {
     "cell_type": "code",
     "collapsed": false,
     "input": [
      "# plot the histogram of the number of links for each identifier\n",
      "%pylab inline"
     ],
     "language": "python",
     "metadata": {},
     "outputs": [
      {
       "output_type": "stream",
       "stream": "stdout",
       "text": [
        "Populating the interactive namespace from numpy and matplotlib\n"
       ]
      },
      {
       "output_type": "stream",
       "stream": "stderr",
       "text": [
        "WARNING: pylab import has clobbered these variables: ['e']\n",
        "`%matplotlib` prevents importing * from pylab and numpy\n"
       ]
      }
     ],
     "prompt_number": 126
    },
    {
     "cell_type": "code",
     "collapsed": false,
     "input": [
      "_ = hist([len(identifiers[k]) for k in identifiers.keys()], 50)"
     ],
     "language": "python",
     "metadata": {},
     "outputs": [
      {
       "metadata": {},
       "output_type": "display_data",
       "png": "[encoded data removed]",
       "text": [
        "<matplotlib.figure.Figure at 0xcc5e5e50>"
       ]
      }
     ],
     "prompt_number": 129
    },
    {
     "cell_type": "code",
     "collapsed": false,
     "input": [],
     "language": "python",
     "metadata": {},
     "outputs": []
    }
   ],
   "metadata": {}
  }
 ]
}