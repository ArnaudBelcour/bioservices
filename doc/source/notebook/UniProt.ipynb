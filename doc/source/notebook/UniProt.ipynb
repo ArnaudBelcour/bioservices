{
 "metadata": {
  "name": "",
  "signature": "sha256:b651f653a7faa2dcaa9a8024100f4b7c1cd420e25adedbfc84337b38773e716f"
 },
 "nbformat": 3,
 "nbformat_minor": 0,
 "worksheets": [
  {
   "cells": [
    {
     "cell_type": "markdown",
     "metadata": {},
     "source": [
      "<h1>Accessing <a href=\"http://www.uniprot.org/\">UniProt</a> Web Services from BioServices</h1>\n",
      "\n",
      "<p>This notebook illustrates some of the uniprot web services using BioServices uniprot module. We show how to </p>\n",
      "<ul>\n",
      "<li>Search for a known entry </li>\n",
      "<li>Search for a key word given an organism </li>\n",
      "<li>Retrieve i a dataframe information related to a list of known entries </li>\n",
      "<li>Perform a mapping between databases</li>\n",
      "<li>Fetch a FASTA sequence</li>\n",
      "</ul>\n",
      "\n"
     ]
    },
    {
     "cell_type": "code",
     "collapsed": false,
     "input": [
      "from bioservices import *\n",
      "%pylab inline --no-import-all"
     ],
     "language": "python",
     "metadata": {},
     "outputs": [
      {
       "output_type": "stream",
       "stream": "stdout",
       "text": [
        "Populating the interactive namespace from numpy and matplotlib\n"
       ]
      }
     ],
     "prompt_number": 1
    },
    {
     "cell_type": "heading",
     "level": 3,
     "metadata": {},
     "source": [
      "UniProt service can help us getting  information about a given protein"
     ]
    },
    {
     "cell_type": "code",
     "collapsed": false,
     "input": [
      "u = UniProt()"
     ],
     "language": "python",
     "metadata": {},
     "outputs": [],
     "prompt_number": 2
    },
    {
     "cell_type": "markdown",
     "metadata": {},
     "source": [
      "If you already know the entry name, just type it:"
     ]
    },
    {
     "cell_type": "code",
     "collapsed": false,
     "input": [
      "res = u.search(\"ZAP70_HUMAN\")\n",
      "print(res)"
     ],
     "language": "python",
     "metadata": {},
     "outputs": [
      {
       "output_type": "stream",
       "stream": "stdout",
       "text": [
        "{'sort': 'score', 'query': 'ZAP70_HUMAN', 'format': 'tab'}\n",
        "Entry\tEntry name\tStatus\tProtein names\tGene names\tOrganism\tLength\n",
        "P43403\tZAP70_HUMAN\treviewed\tTyrosine-protein kinase ZAP-70 (EC 2.7.10.2) (70 kDa zeta-chain associated protein) (Syk-related tyrosine kinase)\tZAP70 SRK\tHomo sapiens (Human)\t619\n"
       ]
      },
      {
       "output_type": "stream",
       "stream": "stdout",
       "text": [
        "\n"
       ]
      }
     ],
     "prompt_number": 3
    },
    {
     "cell_type": "markdown",
     "metadata": {},
     "source": [
      "Otherwise, let us search the entire database. We can restrict the search to human species, and print results limited to 3 best matches and sub-selection of columns/information"
     ]
    },
    {
     "cell_type": "code",
     "collapsed": false,
     "input": [
      "print u.search('zap70+AND+organism:9606', frmt='tab', limit=3,\n",
      "               columns=\"entry name, length, genes\")"
     ],
     "language": "python",
     "metadata": {},
     "outputs": [
      {
       "output_type": "stream",
       "stream": "stdout",
       "text": [
        "{'sort': 'score', 'query': 'zap70 AND organism:9606', 'limit': 3, 'columns': 'entry name,length,genes', 'format': 'tab'}\n",
        "Entry name\tLength\tGene names\n",
        "ZAP70_HUMAN\t619\tZAP70 SRK\n",
        "B4E0E2_HUMAN\t185\t\n",
        "RHOH_HUMAN\t191\tRHOH ARHH TTF\n"
       ]
      },
      {
       "output_type": "stream",
       "stream": "stdout",
       "text": [
        "\n"
       ]
      }
     ],
     "prompt_number": 4
    },
    {
     "cell_type": "code",
     "collapsed": false,
     "input": [
      "print(res)"
     ],
     "language": "python",
     "metadata": {},
     "outputs": [
      {
       "output_type": "stream",
       "stream": "stdout",
       "text": [
        "Entry\tEntry name\tStatus\tProtein names\tGene names\tOrganism\tLength\n",
        "P43403\tZAP70_HUMAN\treviewed\tTyrosine-protein kinase ZAP-70 (EC 2.7.10.2) (70 kDa zeta-chain associated protein) (Syk-related tyrosine kinase)\tZAP70 SRK\tHomo sapiens (Human)\t619\n",
        "\n"
       ]
      }
     ],
     "prompt_number": 5
    },
    {
     "cell_type": "heading",
     "level": 4,
     "metadata": {},
     "source": [
      "Experimental: using pandas to scan the output of the search function"
     ]
    },
    {
     "cell_type": "code",
     "collapsed": false,
     "input": [
      "u.debugLevel = \"INFO\"\n",
      "u.timeout = 10   # some queries are long and requires much more time; default is 1000 seconds\n"
     ],
     "language": "python",
     "metadata": {},
     "outputs": [],
     "prompt_number": 6
    },
    {
     "cell_type": "markdown",
     "metadata": {},
     "source": [
      "Accession via entry name (e.g., ZAP70_HUMAN) is faster than by Entry (e.g., P43403)"
     ]
    },
    {
     "cell_type": "code",
     "collapsed": false,
     "input": [
      "df = u.get_df([\"ZAP70_HUMAN\", \"GRAB_HUMAN\", \"JUN_HUMAN\", \"MK15_HUMAN\"])\n",
      "df"
     ],
     "language": "python",
     "metadata": {},
     "outputs": [
      {
       "output_type": "stream",
       "stream": "stderr",
       "text": [
        "INFO:root:fetching information from uniprot for 4 entries\n"
       ]
      },
      {
       "output_type": "stream",
       "stream": "stderr",
       "text": [
        "INFO:root:uniprot.get_df 1/1\n"
       ]
      },
      {
       "output_type": "stream",
       "stream": "stdout",
       "text": [
        "{'sort': 'score', 'query': 'MK15_HUMAN or JUN_HUMAN or ZAP70_HUMAN or GRAB_HUMAN', 'columns': 'citation,clusters,comments,database,domains,domain,ec,id,entry name,existence,families,features,genes,go,go-id,interpro,interactor,keywords,keyword-id,last-modified,length,organism,organism-id,pathway,protein names,reviewed,score,sequence,3d,subcellular locations,taxonomy,tools,version,virus hosts', 'format': 'tab'}\n"
       ]
      },
      {
       "html": [
        "<div style=\"max-height:1000px;max-width:1500px;overflow:auto;\">\n",
        "<table border=\"1\" class=\"dataframe\">\n",
        "  <thead>\n",
        "    <tr style=\"text-align: right;\">\n",
        "      <th></th>\n",
        "      <th>3D</th>\n",
        "      <th>Comments</th>\n",
        "      <th>Cross-reference</th>\n",
        "      <th>Date of last modification</th>\n",
        "      <th>Domain count</th>\n",
        "      <th>Domains</th>\n",
        "      <th>EC number</th>\n",
        "      <th>Entry</th>\n",
        "      <th>Entry name</th>\n",
        "      <th>Features</th>\n",
        "      <th>Gene names</th>\n",
        "      <th>Gene ontology (GO)</th>\n",
        "      <th>Gene ontology IDs</th>\n",
        "      <th>InterPro</th>\n",
        "      <th>Interacts with</th>\n",
        "      <th>Keywords</th>\n",
        "      <th>Length</th>\n",
        "      <th>Organism</th>\n",
        "      <th>Organism ID</th>\n",
        "      <th>Pathway</th>\n",
        "      <th></th>\n",
        "    </tr>\n",
        "  </thead>\n",
        "  <tbody>\n",
        "    <tr>\n",
        "      <th>0</th>\n",
        "      <td>                                             NaN</td>\n",
        "      <td> [Alternative products (1), Catalytic activity ...</td>\n",
        "      <td>NaN</td>\n",
        "      <td> 2014-07-09</td>\n",
        "      <td> 0</td>\n",
        "      <td>                  [Protein kinase domain (1)]</td>\n",
        "      <td> 2.7.11.24</td>\n",
        "      <td> Q8TD08</td>\n",
        "      <td>  MK15_HUMAN</td>\n",
        "      <td> Active site (1); Alternative sequence (4); Bin...</td>\n",
        "      <td>         [MAPK15 ERK7 ERK8]</td>\n",
        "      <td> [ATP binding, MAP kinase activity, MAPK cascad...</td>\n",
        "      <td> [GO:0005524, GO:0004707, GO:0000165, GO:001712...</td>\n",
        "      <td> [IPR011009, IPR003527, IPR000719, IPR017441, I...</td>\n",
        "      <td>                                                []</td>\n",
        "      <td> [ATP-binding, Alternative splicing, Complete p...</td>\n",
        "      <td> 544</td>\n",
        "      <td> Homo sapiens (Human)</td>\n",
        "      <td> 9606</td>\n",
        "      <td>NaN</td>\n",
        "      <td>...</td>\n",
        "    </tr>\n",
        "    <tr>\n",
        "      <th>1</th>\n",
        "      <td>                      X-ray crystallography (11)</td>\n",
        "      <td> [Alternative products (1), Catalytic activity ...</td>\n",
        "      <td>NaN</td>\n",
        "      <td> 2014-07-09</td>\n",
        "      <td> 0</td>\n",
        "      <td> [Protein kinase domain (1), SH2 domains (2)]</td>\n",
        "      <td>  2.7.10.2</td>\n",
        "      <td> P43403</td>\n",
        "      <td> ZAP70_HUMAN</td>\n",
        "      <td> Active site (1); Alternative sequence (3); Bet...</td>\n",
        "      <td>                [ZAP70 SRK]</td>\n",
        "      <td> [ATP binding, B cell activation, T cell activa...</td>\n",
        "      <td> [GO:0005524, GO:0042113, GO:0042110, GO:007048...</td>\n",
        "      <td> [IPR011009, IPR023420, IPR000719, IPR017441, I...</td>\n",
        "      <td> [P20963, P07766, P10721, P06239, P08581, Q9Y2R...</td>\n",
        "      <td> [3D-structure, ATP-binding, Acetylation, Adapt...</td>\n",
        "      <td> 619</td>\n",
        "      <td> Homo sapiens (Human)</td>\n",
        "      <td> 9606</td>\n",
        "      <td>NaN</td>\n",
        "      <td>...</td>\n",
        "    </tr>\n",
        "    <tr>\n",
        "      <th>2</th>\n",
        "      <td>                       X-ray crystallography (2)</td>\n",
        "      <td> [Catalytic activity (1), Enzyme regulation (1)...</td>\n",
        "      <td>NaN</td>\n",
        "      <td> 2014-07-09</td>\n",
        "      <td> 0</td>\n",
        "      <td>                    [Peptidase S1 domain (1)]</td>\n",
        "      <td> 3.4.21.79</td>\n",
        "      <td> P10144</td>\n",
        "      <td>  GRAB_HUMAN</td>\n",
        "      <td> Active site (3); Beta strand (13); Chain (1); ...</td>\n",
        "      <td> [GZMB CGL1 CSPB CTLA1 GRB]</td>\n",
        "      <td> [Notch signaling pathway, apoptotic process, c...</td>\n",
        "      <td> [GO:0007219, GO:0006915, GO:0019835, GO:000573...</td>\n",
        "      <td>    [IPR001254, IPR018114, IPR001314, IPR009003, ]</td>\n",
        "      <td>                                  [P14222, P10124]</td>\n",
        "      <td> [3D-structure, Apoptosis, Complete proteome, C...</td>\n",
        "      <td> 247</td>\n",
        "      <td> Homo sapiens (Human)</td>\n",
        "      <td> 9606</td>\n",
        "      <td>NaN</td>\n",
        "      <td>...</td>\n",
        "    </tr>\n",
        "    <tr>\n",
        "      <th>3</th>\n",
        "      <td> X-ray crystallography (5); NMR spectroscopy (1)</td>\n",
        "      <td> [Function (1), Post-translational modification...</td>\n",
        "      <td>NaN</td>\n",
        "      <td> 2014-07-09</td>\n",
        "      <td> 0</td>\n",
        "      <td>     [BZIP (basic-leucine zipper) domain (1)]</td>\n",
        "      <td>       NaN</td>\n",
        "      <td> P05412</td>\n",
        "      <td>   JUN_HUMAN</td>\n",
        "      <td> Chain (1); Domain (1); Helix (1); Modified res...</td>\n",
        "      <td>                      [JUN]</td>\n",
        "      <td> [DNA binding, Fc-epsilon receptor signaling pa...</td>\n",
        "      <td> [GO:0003677, GO:0038095, GO:0002755, GO:000275...</td>\n",
        "      <td>    [IPR004827, IPR005643, IPR002112, IPR008917, ]</td>\n",
        "      <td> [Q06481, P05067, P15336, Q8IWZ6, Q99966, O4388...</td>\n",
        "      <td> [3D-structure, Acetylation, Complete proteome,...</td>\n",
        "      <td> 331</td>\n",
        "      <td> Homo sapiens (Human)</td>\n",
        "      <td> 9606</td>\n",
        "      <td>NaN</td>\n",
        "      <td>...</td>\n",
        "    </tr>\n",
        "  </tbody>\n",
        "</table>\n",
        "<p>4 rows \u00d7 29 columns</p>\n",
        "</div>"
       ],
       "metadata": {},
       "output_type": "pyout",
       "prompt_number": 7,
       "text": [
        "                                                3D  \\\n",
        "0                                              NaN   \n",
        "1                       X-ray crystallography (11)   \n",
        "2                        X-ray crystallography (2)   \n",
        "3  X-ray crystallography (5); NMR spectroscopy (1)   \n",
        "\n",
        "                                            Comments  Cross-reference  \\\n",
        "0  [Alternative products (1), Catalytic activity ...              NaN   \n",
        "1  [Alternative products (1), Catalytic activity ...              NaN   \n",
        "2  [Catalytic activity (1), Enzyme regulation (1)...              NaN   \n",
        "3  [Function (1), Post-translational modification...              NaN   \n",
        "\n",
        "  Date of last modification  Domain count  \\\n",
        "0                2014-07-09             0   \n",
        "1                2014-07-09             0   \n",
        "2                2014-07-09             0   \n",
        "3                2014-07-09             0   \n",
        "\n",
        "                                        Domains  EC number   Entry  \\\n",
        "0                   [Protein kinase domain (1)]  2.7.11.24  Q8TD08   \n",
        "1  [Protein kinase domain (1), SH2 domains (2)]   2.7.10.2  P43403   \n",
        "2                     [Peptidase S1 domain (1)]  3.4.21.79  P10144   \n",
        "3      [BZIP (basic-leucine zipper) domain (1)]        NaN  P05412   \n",
        "\n",
        "    Entry name                                           Features  \\\n",
        "0   MK15_HUMAN  Active site (1); Alternative sequence (4); Bin...   \n",
        "1  ZAP70_HUMAN  Active site (1); Alternative sequence (3); Bet...   \n",
        "2   GRAB_HUMAN  Active site (3); Beta strand (13); Chain (1); ...   \n",
        "3    JUN_HUMAN  Chain (1); Domain (1); Helix (1); Modified res...   \n",
        "\n",
        "                   Gene names  \\\n",
        "0          [MAPK15 ERK7 ERK8]   \n",
        "1                 [ZAP70 SRK]   \n",
        "2  [GZMB CGL1 CSPB CTLA1 GRB]   \n",
        "3                       [JUN]   \n",
        "\n",
        "                                  Gene ontology (GO)  \\\n",
        "0  [ATP binding, MAP kinase activity, MAPK cascad...   \n",
        "1  [ATP binding, B cell activation, T cell activa...   \n",
        "2  [Notch signaling pathway, apoptotic process, c...   \n",
        "3  [DNA binding, Fc-epsilon receptor signaling pa...   \n",
        "\n",
        "                                   Gene ontology IDs  \\\n",
        "0  [GO:0005524, GO:0004707, GO:0000165, GO:001712...   \n",
        "1  [GO:0005524, GO:0042113, GO:0042110, GO:007048...   \n",
        "2  [GO:0007219, GO:0006915, GO:0019835, GO:000573...   \n",
        "3  [GO:0003677, GO:0038095, GO:0002755, GO:000275...   \n",
        "\n",
        "                                            InterPro  \\\n",
        "0  [IPR011009, IPR003527, IPR000719, IPR017441, I...   \n",
        "1  [IPR011009, IPR023420, IPR000719, IPR017441, I...   \n",
        "2     [IPR001254, IPR018114, IPR001314, IPR009003, ]   \n",
        "3     [IPR004827, IPR005643, IPR002112, IPR008917, ]   \n",
        "\n",
        "                                      Interacts with  \\\n",
        "0                                                 []   \n",
        "1  [P20963, P07766, P10721, P06239, P08581, Q9Y2R...   \n",
        "2                                   [P14222, P10124]   \n",
        "3  [Q06481, P05067, P15336, Q8IWZ6, Q99966, O4388...   \n",
        "\n",
        "                                            Keywords  Length  \\\n",
        "0  [ATP-binding, Alternative splicing, Complete p...     544   \n",
        "1  [3D-structure, ATP-binding, Acetylation, Adapt...     619   \n",
        "2  [3D-structure, Apoptosis, Complete proteome, C...     247   \n",
        "3  [3D-structure, Acetylation, Complete proteome,...     331   \n",
        "\n",
        "               Organism  Organism ID  Pathway      \n",
        "0  Homo sapiens (Human)         9606      NaN ...  \n",
        "1  Homo sapiens (Human)         9606      NaN ...  \n",
        "2  Homo sapiens (Human)         9606      NaN ...  \n",
        "3  Homo sapiens (Human)         9606      NaN ...  \n",
        "\n",
        "[4 rows x 29 columns]"
       ]
      }
     ],
     "prompt_number": 7
    },
    {
     "cell_type": "code",
     "collapsed": false,
     "input": [
      "df['Length'].hist()\n"
     ],
     "language": "python",
     "metadata": {},
     "outputs": [
      {
       "metadata": {},
       "output_type": "pyout",
       "prompt_number": 8,
       "text": [
        "<matplotlib.axes.AxesSubplot at 0x2854f10>"
       ]
      },
      {
       "metadata": {},
       "output_type": "display_data",
       "png": "[encoded data removed]",
       "text": [
        "<matplotlib.figure.Figure at 0x4e0f0d0>"
       ]
      }
     ],
     "prompt_number": 8
    },
    {
     "cell_type": "heading",
     "level": 3,
     "metadata": {},
     "source": [
      "UniProt service can help us getting the FASTA sequence and more generally information about a given protein"
     ]
    },
    {
     "cell_type": "code",
     "collapsed": false,
     "input": [
      "sequence = u.searchUniProtId(\"P43403\", \"fasta\")"
     ],
     "language": "python",
     "metadata": {},
     "outputs": [],
     "prompt_number": 9
    },
    {
     "cell_type": "code",
     "collapsed": false,
     "input": [
      "print(sequence)"
     ],
     "language": "python",
     "metadata": {},
     "outputs": [
      {
       "output_type": "stream",
       "stream": "stdout",
       "text": [
        ">sp|P43403|ZAP70_HUMAN Tyrosine-protein kinase ZAP-70 OS=Homo sapiens GN=ZAP70 PE=1 SV=1\n",
        "MPDPAAHLPFFYGSISRAEAEEHLKLAGMADGLFLLRQCLRSLGGYVLSLVHDVRFHHFP\n",
        "IERQLNGTYAIAGGKAHCGPAELCEFYSRDPDGLPCNLRKPCNRPSGLEPQPGVFDCLRD\n",
        "AMVRDYVRQTWKLEGEALEQAIISQAPQVEKLIATTAHERMPWYHSSLTREEAERKLYSG\n",
        "AQTDGKFLLRPRKEQGTYALSLIYGKTVYHYLISQDKAGKYCIPEGTKFDTLWQLVEYLK\n",
        "LKADGLIYCLKEACPNSSASNASGAAAPTLPAHPSTLTHPQRRIDTLNSDGYTPEPARIT\n",
        "SPDKPRPMPMDTSVYESPYSDPEELKDKKLFLKRDNLLIADIELGCGNFGSVRQGVYRMR\n",
        "KKQIDVAIKVLKQGTEKADTEEMMREAQIMHQLDNPYIVRLIGVCQAEALMLVMEMAGGG\n",
        "PLHKFLVGKREEIPVSNVAELLHQVSMGMKYLEEKNFVHRDLAARNVLLVNRHYAKISDF\n",
        "GLSKALGADDSYYTARSAGKWPLKWYAPECINFRKFSSRSDVWSYGVTMWEALSYGQKPY\n",
        "KKMKGPEVMAFIEQGKRMECPPECPPELYALMSDCWIYKWEDRPDFLTVEQRMRACYYSL\n",
        "ASKVEGPPGSTQKAEAACA\n",
        "\n"
       ]
      }
     ],
     "prompt_number": 10
    },
    {
     "cell_type": "markdown",
     "metadata": {},
     "source": [
      "Alternatively, you can just use the following function to get the fasta sequence:"
     ]
    },
    {
     "cell_type": "code",
     "collapsed": false,
     "input": [
      "u.get_fasta_sequence(\"P43403\")"
     ],
     "language": "python",
     "metadata": {},
     "outputs": [
      {
       "metadata": {},
       "output_type": "pyout",
       "prompt_number": 11,
       "text": [
        "'MPDPAAHLPFFYGSISRAEAEEHLKLAGMADGLFLLRQCLRSLGGYVLSLVHDVRFHHFPIERQLNGTYAIAGGKAHCGPAELCEFYSRDPDGLPCNLRKPCNRPSGLEPQPGVFDCLRDAMVRDYVRQTWKLEGEALEQAIISQAPQVEKLIATTAHERMPWYHSSLTREEAERKLYSGAQTDGKFLLRPRKEQGTYALSLIYGKTVYHYLISQDKAGKYCIPEGTKFDTLWQLVEYLKLKADGLIYCLKEACPNSSASNASGAAAPTLPAHPSTLTHPQRRIDTLNSDGYTPEPARITSPDKPRPMPMDTSVYESPYSDPEELKDKKLFLKRDNLLIADIELGCGNFGSVRQGVYRMRKKQIDVAIKVLKQGTEKADTEEMMREAQIMHQLDNPYIVRLIGVCQAEALMLVMEMAGGGPLHKFLVGKREEIPVSNVAELLHQVSMGMKYLEEKNFVHRDLAARNVLLVNRHYAKISDFGLSKALGADDSYYTARSAGKWPLKWYAPECINFRKFSSRSDVWSYGVTMWEALSYGQKPYKKMKGPEVMAFIEQGKRMECPPECPPELYALMSDCWIYKWEDRPDFLTVEQRMRACYYSLASKVEGPPGSTQKAEAACA'"
       ]
      }
     ],
     "prompt_number": 11
    },
    {
     "cell_type": "heading",
     "level": 3,
     "metadata": {},
     "source": [
      "UniProt service has also a mapping utility that can be called via BioServices"
     ]
    },
    {
     "cell_type": "markdown",
     "metadata": {},
     "source": [
      "The are 3 parameters required. The input database code, the output database code and query as a list of valid identifiers"
     ]
    },
    {
     "cell_type": "code",
     "collapsed": false,
     "input": [
      "u.mapping(\"ACC\", \"KEGG_ID\", 'P43403')"
     ],
     "language": "python",
     "metadata": {},
     "outputs": [
      {
       "metadata": {},
       "output_type": "pyout",
       "prompt_number": 12,
       "text": [
        "defaultdict(<type 'list'>, {'P43403': ['hsa:7535']})"
       ]
      }
     ],
     "prompt_number": 12
    },
    {
     "cell_type": "code",
     "collapsed": false,
     "input": [
      "u.mapping(\"ID\", \"PDB_ID\", \"P43403\")"
     ],
     "language": "python",
     "metadata": {},
     "outputs": [
      {
       "metadata": {},
       "output_type": "pyout",
       "prompt_number": 13,
       "text": [
        "defaultdict(<type 'list'>, {'P43403': ['1FBV', '1M61', '1U59', '2CBL', '2OQ1', '2OZO', '2Y1N', '3ZNI', '4A4B', '4A4C', '4K2R']})"
       ]
      }
     ],
     "prompt_number": 13
    },
    {
     "cell_type": "markdown",
     "metadata": {},
     "source": [
      "<hr>\n",
      "For more information, please see <a href=\"http://pythonhosted.org//bioservices/references.html?bioservices.uniprot.UniProt#module-bioservices.uniprot\">bioservices.uniprot module documentation.</a>"
     ]
    },
    {
     "cell_type": "code",
     "collapsed": false,
     "input": [],
     "language": "python",
     "metadata": {},
     "outputs": []
    }
   ],
   "metadata": {}
  }
 ]
}