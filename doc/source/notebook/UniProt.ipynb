{
 "cells": [
  {
   "cell_type": "markdown",
   "metadata": {},
   "source": [
    "<h1>Accessing <a href=\"http://www.uniprot.org/\">UniProt</a> Web Services from BioServices</h1>\n",
    "\n",
    "<p>This notebook illustrates some of the uniprot web services using BioServices uniprot module. We show how to </p>\n",
    "<ul>\n",
    "<li>Search for a known entry </li>\n",
    "<li>Search for a key word given an organism </li>\n",
    "<li>Retrieve i a dataframe information related to a list of known entries </li>\n",
    "<li>Perform a mapping between databases</li>\n",
    "<li>Fetch a FASTA sequence</li>\n",
    "</ul>\n",
    "\n"
   ]
  },
  {
   "cell_type": "code",
   "execution_count": 1,
   "metadata": {
    "collapsed": false
   },
   "outputs": [
    {
     "name": "stdout",
     "output_type": "stream",
     "text": [
      "Populating the interactive namespace from numpy and matplotlib\n"
     ]
    }
   ],
   "source": [
    "from bioservices import *\n",
    "%pylab inline --no-import-all"
   ]
  },
  {
   "cell_type": "markdown",
   "metadata": {},
   "source": [
    "### UniProt service can help us getting  information about a given protein"
   ]
  },
  {
   "cell_type": "code",
   "execution_count": 2,
   "metadata": {
    "collapsed": false
   },
   "outputs": [],
   "source": [
    "u = UniProt()"
   ]
  },
  {
   "cell_type": "markdown",
   "metadata": {},
   "source": [
    "If you already know the entry name, just type it:"
   ]
  },
  {
   "cell_type": "code",
   "execution_count": 3,
   "metadata": {
    "collapsed": false
   },
   "outputs": [
    {
     "name": "stdout",
     "output_type": "stream",
     "text": [
      "Entry\tEntry name\tStatus\tProtein names\tGene names\tOrganism\tLength\n",
      "P43403\tZAP70_HUMAN\treviewed\tTyrosine-protein kinase ZAP-70 (EC 2.7.10.2) (70 kDa zeta-chain associated protein) (Syk-related tyrosine kinase)\tZAP70 SRK\tHomo sapiens (Human)\t619\n",
      "\n"
     ]
    }
   ],
   "source": [
    "res = u.search(\"ZAP70_HUMAN\")\n",
    "print(res)"
   ]
  },
  {
   "cell_type": "markdown",
   "metadata": {},
   "source": [
    "Otherwise, let us search the entire database. We can restrict the search to human species, and print results limited to 3 best matches and sub-selection of columns/information"
   ]
  },
  {
   "cell_type": "code",
   "execution_count": 4,
   "metadata": {
    "collapsed": false
   },
   "outputs": [
    {
     "name": "stdout",
     "output_type": "stream",
     "text": [
      "Entry name\tLength\tGene names\n",
      "ZAP70_HUMAN\t619\tZAP70 SRK\n",
      "B4E0E2_HUMAN\t185\t\n",
      "RHOH_HUMAN\t191\tRHOH ARHH TTF\n",
      "\n"
     ]
    }
   ],
   "source": [
    "print u.search('zap70+AND+organism:9606', frmt='tab', limit=3,\n",
    "               columns=\"entry name, length, genes\")"
   ]
  },
  {
   "cell_type": "code",
   "execution_count": 5,
   "metadata": {
    "collapsed": false
   },
   "outputs": [
    {
     "name": "stdout",
     "output_type": "stream",
     "text": [
      "Entry\tEntry name\tStatus\tProtein names\tGene names\tOrganism\tLength\n",
      "P43403\tZAP70_HUMAN\treviewed\tTyrosine-protein kinase ZAP-70 (EC 2.7.10.2) (70 kDa zeta-chain associated protein) (Syk-related tyrosine kinase)\tZAP70 SRK\tHomo sapiens (Human)\t619\n",
      "\n"
     ]
    }
   ],
   "source": [
    "print(res)"
   ]
  },
  {
   "cell_type": "markdown",
   "metadata": {},
   "source": [
    "#### Experimental: using pandas to scan the output of the search function"
   ]
  },
  {
   "cell_type": "code",
   "execution_count": 6,
   "metadata": {
    "collapsed": false
   },
   "outputs": [],
   "source": [
    "u.debugLevel = \"INFO\"\n",
    "u.timeout = 10   # some queries are long and requires much more time; default is 1000 seconds\n"
   ]
  },
  {
   "cell_type": "markdown",
   "metadata": {},
   "source": [
    "Accession via entry name (e.g., ZAP70_HUMAN) is faster than by Entry (e.g., P43403)"
   ]
  },
  {
   "cell_type": "code",
   "execution_count": 7,
   "metadata": {
    "collapsed": false
   },
   "outputs": [
    {
     "name": "stderr",
     "output_type": "stream",
     "text": [
      "INFO:root:fetching information from uniprot for 4 entries\n",
      "INFO:root:uniprot.get_df 1/1\n",
      "WARNING:root:column could not be parsed. Protein families\n",
      "WARNING:root:column could not be parsed. InterPro\n",
      "WARNING:root:column could not be parsed. Interacts with\n",
      "WARNING:root:column could not be parsed. Subcellular location\n"
     ]
    },
    {
     "data": {
      "text/html": [
       "<div>\n",
       "<table border=\"1\" class=\"dataframe\">\n",
       "  <thead>\n",
       "    <tr style=\"text-align: right;\">\n",
       "      <th></th>\n",
       "      <th>PubMed ID</th>\n",
       "      <th>Comments</th>\n",
       "      <th>Cross-reference</th>\n",
       "      <th>Domains</th>\n",
       "      <th>Domain count</th>\n",
       "      <th>EC number</th>\n",
       "      <th>Entry</th>\n",
       "      <th>Entry name</th>\n",
       "      <th>Sequence annotation (Features)</th>\n",
       "      <th>Features</th>\n",
       "      <th>...</th>\n",
       "      <th>Pathway</th>\n",
       "      <th>Protein names</th>\n",
       "      <th>Status</th>\n",
       "      <th>Sequence</th>\n",
       "      <th>3D</th>\n",
       "      <th>Version</th>\n",
       "      <th>Virus hosts</th>\n",
       "      <th>Taxonomic lineage IDs</th>\n",
       "      <th>Date of last sequence modification</th>\n",
       "      <th>Proteomes</th>\n",
       "    </tr>\n",
       "  </thead>\n",
       "  <tbody>\n",
       "    <tr>\n",
       "      <th>0</th>\n",
       "      <td>[11875070, 16484222, 15489334, 16624805, 19369...</td>\n",
       "      <td>[Alternative products (1), Catalytic activity ...</td>\n",
       "      <td>NaN</td>\n",
       "      <td>[Protein kinase domain (1)]</td>\n",
       "      <td>0</td>\n",
       "      <td>2.7.11.24</td>\n",
       "      <td>Q8TD08</td>\n",
       "      <td>MK15_HUMAN</td>\n",
       "      <td>NaN</td>\n",
       "      <td>Active site (1); Alternative sequence (4); Bin...</td>\n",
       "      <td>...</td>\n",
       "      <td>NaN</td>\n",
       "      <td>Mitogen-activated protein kinase 15 (MAP kinas...</td>\n",
       "      <td>reviewed</td>\n",
       "      <td>MCTVVDPRIVRRYLLRRQLGQGAYGIVWKAVDRRTGEVVAIKKIFD...</td>\n",
       "      <td>NaN</td>\n",
       "      <td>120</td>\n",
       "      <td>NaN</td>\n",
       "      <td>9606</td>\n",
       "      <td>2002-06-01</td>\n",
       "      <td>UP000005640: Chromosome 8</td>\n",
       "    </tr>\n",
       "    <tr>\n",
       "      <th>1</th>\n",
       "      <td>[1423621, 14985102, 15815621, 15489334, 812472...</td>\n",
       "      <td>[Alternative products (1), Catalytic activity ...</td>\n",
       "      <td>NaN</td>\n",
       "      <td>[Protein kinase domain (1), SH2 domains (2)]</td>\n",
       "      <td>0</td>\n",
       "      <td>2.7.10.2</td>\n",
       "      <td>P43403</td>\n",
       "      <td>ZAP70_HUMAN</td>\n",
       "      <td>NaN</td>\n",
       "      <td>Active site (1); Alternative sequence (3); Bet...</td>\n",
       "      <td>...</td>\n",
       "      <td>NaN</td>\n",
       "      <td>Tyrosine-protein kinase ZAP-70 (EC 2.7.10.2) (...</td>\n",
       "      <td>reviewed</td>\n",
       "      <td>MPDPAAHLPFFYGSISRAEAEEHLKLAGMADGLFLLRQCLRSLGGY...</td>\n",
       "      <td>X-ray crystallography (13)</td>\n",
       "      <td>186</td>\n",
       "      <td>NaN</td>\n",
       "      <td>9606</td>\n",
       "      <td>1995-11-01</td>\n",
       "      <td>UP000005640: Chromosome 2</td>\n",
       "    </tr>\n",
       "    <tr>\n",
       "      <th>2</th>\n",
       "      <td>[2953813, 3258865, 3261871, 2788607, 2365998, ...</td>\n",
       "      <td>[Catalytic activity (1), Enzyme regulation (1)...</td>\n",
       "      <td>NaN</td>\n",
       "      <td>[Peptidase S1 domain (1)]</td>\n",
       "      <td>0</td>\n",
       "      <td>3.4.21.79</td>\n",
       "      <td>P10144</td>\n",
       "      <td>GRAB_HUMAN</td>\n",
       "      <td>NaN</td>\n",
       "      <td>Active site (3); Beta strand (13); Chain (1); ...</td>\n",
       "      <td>...</td>\n",
       "      <td>NaN</td>\n",
       "      <td>Granzyme B (EC 3.4.21.79) (C11) (CTLA-1) (Cath...</td>\n",
       "      <td>reviewed</td>\n",
       "      <td>MQPILLLLAFLLLPRADAGEIIGGHEAKPHSRPYMAYLMIWDQKSL...</td>\n",
       "      <td>X-ray crystallography (2)</td>\n",
       "      <td>177</td>\n",
       "      <td>NaN</td>\n",
       "      <td>9606</td>\n",
       "      <td>2011-01-11</td>\n",
       "      <td>UP000005640: Chromosome 14</td>\n",
       "    </tr>\n",
       "    <tr>\n",
       "      <th>3</th>\n",
       "      <td>[3194415, 2825349, 16710414, 15489334, 1846781...</td>\n",
       "      <td>[Function (1), Post-translational modification...</td>\n",
       "      <td>NaN</td>\n",
       "      <td>[BZIP (basic-leucine zipper) domain (1)]</td>\n",
       "      <td>0</td>\n",
       "      <td>NaN</td>\n",
       "      <td>P05412</td>\n",
       "      <td>JUN_HUMAN</td>\n",
       "      <td>NaN</td>\n",
       "      <td>Chain (1); Domain (1); Helix (1); Modified res...</td>\n",
       "      <td>...</td>\n",
       "      <td>NaN</td>\n",
       "      <td>Transcription factor AP-1 (Activator protein 1...</td>\n",
       "      <td>reviewed</td>\n",
       "      <td>MTAKMETTFYDDALNASFLPSESGPYGYSNPKILKQSMTLNLADPV...</td>\n",
       "      <td>NMR spectroscopy (1); X-ray crystallography (5)</td>\n",
       "      <td>204</td>\n",
       "      <td>NaN</td>\n",
       "      <td>9606</td>\n",
       "      <td>1989-10-01</td>\n",
       "      <td>UP000005640: Chromosome 1</td>\n",
       "    </tr>\n",
       "  </tbody>\n",
       "</table>\n",
       "<p>4 rows × 28 columns</p>\n",
       "</div>"
      ],
      "text/plain": [
       "                                           PubMed ID  \\\n",
       "0  [11875070, 16484222, 15489334, 16624805, 19369...   \n",
       "1  [1423621, 14985102, 15815621, 15489334, 812472...   \n",
       "2  [2953813, 3258865, 3261871, 2788607, 2365998, ...   \n",
       "3  [3194415, 2825349, 16710414, 15489334, 1846781...   \n",
       "\n",
       "                                            Comments  Cross-reference  \\\n",
       "0  [Alternative products (1), Catalytic activity ...              NaN   \n",
       "1  [Alternative products (1), Catalytic activity ...              NaN   \n",
       "2  [Catalytic activity (1), Enzyme regulation (1)...              NaN   \n",
       "3  [Function (1), Post-translational modification...              NaN   \n",
       "\n",
       "                                        Domains  Domain count  EC number  \\\n",
       "0                   [Protein kinase domain (1)]             0  2.7.11.24   \n",
       "1  [Protein kinase domain (1), SH2 domains (2)]             0   2.7.10.2   \n",
       "2                     [Peptidase S1 domain (1)]             0  3.4.21.79   \n",
       "3      [BZIP (basic-leucine zipper) domain (1)]             0        NaN   \n",
       "\n",
       "    Entry   Entry name  Sequence annotation (Features)  \\\n",
       "0  Q8TD08   MK15_HUMAN                             NaN   \n",
       "1  P43403  ZAP70_HUMAN                             NaN   \n",
       "2  P10144   GRAB_HUMAN                             NaN   \n",
       "3  P05412    JUN_HUMAN                             NaN   \n",
       "\n",
       "                                            Features  \\\n",
       "0  Active site (1); Alternative sequence (4); Bin...   \n",
       "1  Active site (1); Alternative sequence (3); Bet...   \n",
       "2  Active site (3); Beta strand (13); Chain (1); ...   \n",
       "3  Chain (1); Domain (1); Helix (1); Modified res...   \n",
       "\n",
       "              ...             Pathway  \\\n",
       "0             ...                 NaN   \n",
       "1             ...                 NaN   \n",
       "2             ...                 NaN   \n",
       "3             ...                 NaN   \n",
       "\n",
       "                                       Protein names    Status  \\\n",
       "0  Mitogen-activated protein kinase 15 (MAP kinas...  reviewed   \n",
       "1  Tyrosine-protein kinase ZAP-70 (EC 2.7.10.2) (...  reviewed   \n",
       "2  Granzyme B (EC 3.4.21.79) (C11) (CTLA-1) (Cath...  reviewed   \n",
       "3  Transcription factor AP-1 (Activator protein 1...  reviewed   \n",
       "\n",
       "                                            Sequence  \\\n",
       "0  MCTVVDPRIVRRYLLRRQLGQGAYGIVWKAVDRRTGEVVAIKKIFD...   \n",
       "1  MPDPAAHLPFFYGSISRAEAEEHLKLAGMADGLFLLRQCLRSLGGY...   \n",
       "2  MQPILLLLAFLLLPRADAGEIIGGHEAKPHSRPYMAYLMIWDQKSL...   \n",
       "3  MTAKMETTFYDDALNASFLPSESGPYGYSNPKILKQSMTLNLADPV...   \n",
       "\n",
       "                                                3D  Version Virus hosts  \\\n",
       "0                                              NaN      120         NaN   \n",
       "1                       X-ray crystallography (13)      186         NaN   \n",
       "2                        X-ray crystallography (2)      177         NaN   \n",
       "3  NMR spectroscopy (1); X-ray crystallography (5)      204         NaN   \n",
       "\n",
       "   Taxonomic lineage IDs  Date of last sequence modification  \\\n",
       "0                   9606                          2002-06-01   \n",
       "1                   9606                          1995-11-01   \n",
       "2                   9606                          2011-01-11   \n",
       "3                   9606                          1989-10-01   \n",
       "\n",
       "                    Proteomes  \n",
       "0   UP000005640: Chromosome 8  \n",
       "1   UP000005640: Chromosome 2  \n",
       "2  UP000005640: Chromosome 14  \n",
       "3   UP000005640: Chromosome 1  \n",
       "\n",
       "[4 rows x 28 columns]"
      ]
     },
     "execution_count": 7,
     "metadata": {},
     "output_type": "execute_result"
    }
   ],
   "source": [
    "df = u.get_df([\"ZAP70_HUMAN\", \"GRAB_HUMAN\", \"JUN_HUMAN\", \"MK15_HUMAN\"])\n",
    "df"
   ]
  },
  {
   "cell_type": "code",
   "execution_count": 8,
   "metadata": {
    "collapsed": false
   },
   "outputs": [
    {
     "data": {
      "text/plain": [
       "<matplotlib.axes._subplots.AxesSubplot at 0x19d4a90>"
      ]
     },
     "execution_count": 8,
     "metadata": {},
     "output_type": "execute_result"
    },
    {
     "data": {
      "image/png": "[encoded data removed]",
      "text/plain": [
       "<matplotlib.figure.Figure at 0x5251210>"
      ]
     },
     "metadata": {},
     "output_type": "display_data"
    }
   ],
   "source": [
    "df['Length'].hist()\n"
   ]
  },
  {
   "cell_type": "markdown",
   "metadata": {},
   "source": [
    "### UniProt service can help us getting the FASTA sequence and more generally information about a given protein"
   ]
  },
  {
   "cell_type": "code",
   "execution_count": 11,
   "metadata": {
    "collapsed": false
   },
   "outputs": [],
   "source": [
    "sequence = u.retrieve(\"P43403\", \"fasta\")"
   ]
  },
  {
   "cell_type": "code",
   "execution_count": 12,
   "metadata": {
    "collapsed": false
   },
   "outputs": [
    {
     "name": "stdout",
     "output_type": "stream",
     "text": [
      ">sp|P43403|ZAP70_HUMAN Tyrosine-protein kinase ZAP-70 OS=Homo sapiens GN=ZAP70 PE=1 SV=1\n",
      "MPDPAAHLPFFYGSISRAEAEEHLKLAGMADGLFLLRQCLRSLGGYVLSLVHDVRFHHFP\n",
      "IERQLNGTYAIAGGKAHCGPAELCEFYSRDPDGLPCNLRKPCNRPSGLEPQPGVFDCLRD\n",
      "AMVRDYVRQTWKLEGEALEQAIISQAPQVEKLIATTAHERMPWYHSSLTREEAERKLYSG\n",
      "AQTDGKFLLRPRKEQGTYALSLIYGKTVYHYLISQDKAGKYCIPEGTKFDTLWQLVEYLK\n",
      "LKADGLIYCLKEACPNSSASNASGAAAPTLPAHPSTLTHPQRRIDTLNSDGYTPEPARIT\n",
      "SPDKPRPMPMDTSVYESPYSDPEELKDKKLFLKRDNLLIADIELGCGNFGSVRQGVYRMR\n",
      "KKQIDVAIKVLKQGTEKADTEEMMREAQIMHQLDNPYIVRLIGVCQAEALMLVMEMAGGG\n",
      "PLHKFLVGKREEIPVSNVAELLHQVSMGMKYLEEKNFVHRDLAARNVLLVNRHYAKISDF\n",
      "GLSKALGADDSYYTARSAGKWPLKWYAPECINFRKFSSRSDVWSYGVTMWEALSYGQKPY\n",
      "KKMKGPEVMAFIEQGKRMECPPECPPELYALMSDCWIYKWEDRPDFLTVEQRMRACYYSL\n",
      "ASKVEGPPGSTQKAEAACA\n",
      "\n"
     ]
    }
   ],
   "source": [
    "print(sequence)"
   ]
  },
  {
   "cell_type": "markdown",
   "metadata": {},
   "source": [
    "Alternatively, you can just use the following function to get the fasta sequence:"
   ]
  },
  {
   "cell_type": "code",
   "execution_count": 13,
   "metadata": {
    "collapsed": false
   },
   "outputs": [
    {
     "data": {
      "text/plain": [
       "u'MPDPAAHLPFFYGSISRAEAEEHLKLAGMADGLFLLRQCLRSLGGYVLSLVHDVRFHHFPIERQLNGTYAIAGGKAHCGPAELCEFYSRDPDGLPCNLRKPCNRPSGLEPQPGVFDCLRDAMVRDYVRQTWKLEGEALEQAIISQAPQVEKLIATTAHERMPWYHSSLTREEAERKLYSGAQTDGKFLLRPRKEQGTYALSLIYGKTVYHYLISQDKAGKYCIPEGTKFDTLWQLVEYLKLKADGLIYCLKEACPNSSASNASGAAAPTLPAHPSTLTHPQRRIDTLNSDGYTPEPARITSPDKPRPMPMDTSVYESPYSDPEELKDKKLFLKRDNLLIADIELGCGNFGSVRQGVYRMRKKQIDVAIKVLKQGTEKADTEEMMREAQIMHQLDNPYIVRLIGVCQAEALMLVMEMAGGGPLHKFLVGKREEIPVSNVAELLHQVSMGMKYLEEKNFVHRDLAARNVLLVNRHYAKISDFGLSKALGADDSYYTARSAGKWPLKWYAPECINFRKFSSRSDVWSYGVTMWEALSYGQKPYKKMKGPEVMAFIEQGKRMECPPECPPELYALMSDCWIYKWEDRPDFLTVEQRMRACYYSLASKVEGPPGSTQKAEAACA'"
      ]
     },
     "execution_count": 13,
     "metadata": {},
     "output_type": "execute_result"
    }
   ],
   "source": [
    "u.get_fasta_sequence(\"P43403\")"
   ]
  },
  {
   "cell_type": "markdown",
   "metadata": {},
   "source": [
    "### UniProt service has also a mapping utility that can be called via BioServices"
   ]
  },
  {
   "cell_type": "markdown",
   "metadata": {},
   "source": [
    "The are 3 parameters required. The input database code, the output database code and query as a list of valid identifiers"
   ]
  },
  {
   "cell_type": "code",
   "execution_count": 14,
   "metadata": {
    "collapsed": false
   },
   "outputs": [
    {
     "data": {
      "text/plain": [
       "defaultdict(list, {u'P43403': [u'hsa:7535']})"
      ]
     },
     "execution_count": 14,
     "metadata": {},
     "output_type": "execute_result"
    }
   ],
   "source": [
    "u.mapping(\"ACC\", \"KEGG_ID\", 'P43403')"
   ]
  },
  {
   "cell_type": "code",
   "execution_count": 15,
   "metadata": {
    "collapsed": false
   },
   "outputs": [
    {
     "data": {
      "text/plain": [
       "defaultdict(list,\n",
       "            {u'P43403': [u'1FBV',\n",
       "              u'1M61',\n",
       "              u'1U59',\n",
       "              u'2CBL',\n",
       "              u'2OQ1',\n",
       "              u'2OZO',\n",
       "              u'2Y1N',\n",
       "              u'3ZNI',\n",
       "              u'4A4B',\n",
       "              u'4A4C',\n",
       "              u'4K2R',\n",
       "              u'4XZ0',\n",
       "              u'4XZ1']})"
      ]
     },
     "execution_count": 15,
     "metadata": {},
     "output_type": "execute_result"
    }
   ],
   "source": [
    "u.mapping(\"ID\", \"PDB_ID\", \"P43403\")"
   ]
  },
  {
   "cell_type": "markdown",
   "metadata": {},
   "source": [
    "<hr>\n",
    "For more information, please see <a href=\"http://pythonhosted.org//bioservices/references.html?bioservices.uniprot.UniProt#module-bioservices.uniprot\">bioservices.uniprot module documentation.</a>"
   ]
  },
  {
   "cell_type": "code",
   "execution_count": null,
   "metadata": {
    "collapsed": false
   },
   "outputs": [],
   "source": []
  }
 ],
 "metadata": {
  "kernelspec": {
   "display_name": "Python 2",
   "language": "python",
   "name": "python2"
  },
  "language_info": {
   "codemirror_mode": {
    "name": "ipython",
    "version": 2
   },
   "file_extension": ".py",
   "mimetype": "text/x-python",
   "name": "python",
   "nbconvert_exporter": "python",
   "pygments_lexer": "ipython2",
   "version": "2.7.5"
  }
 },
 "nbformat": 4,
 "nbformat_minor": 0
}
